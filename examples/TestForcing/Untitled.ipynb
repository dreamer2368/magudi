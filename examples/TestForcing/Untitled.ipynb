{
 "cells": [
  {
   "cell_type": "code",
   "execution_count": 8,
   "metadata": {
    "collapsed": true
   },
   "outputs": [],
   "source": [
    "import numpy as np\n",
    "import subprocess\n",
    "\n",
    "prefix = 'TestForcing'\n",
    "Nproc = 1"
   ]
  },
  {
   "cell_type": "code",
   "execution_count": 9,
   "metadata": {
    "collapsed": false
   },
   "outputs": [
    {
     "data": {
      "text/plain": [
       "0"
      ]
     },
     "execution_count": 9,
     "metadata": {},
     "output_type": "execute_result"
    }
   ],
   "source": [
    "forward_run_file = prefix+'.forward_run.txt'\n",
    "subprocess.check_call('mpirun -np '+ str(Nproc) + ' ./forward '+forward_run_file, shell=True)"
   ]
  },
  {
   "cell_type": "code",
   "execution_count": 10,
   "metadata": {
    "collapsed": false
   },
   "outputs": [
    {
     "name": "stdout",
     "output_type": "stream",
     "text": [
      "0.000357709272767\n"
     ]
    }
   ],
   "source": [
    "fQoI0 = open(prefix+'.forward_run.txt','r')\n",
    "QoI0 = float(fQoI0.read())\n",
    "fQoI0.close()\n",
    "print QoI0"
   ]
  },
  {
   "cell_type": "code",
   "execution_count": 11,
   "metadata": {
    "collapsed": false
   },
   "outputs": [
    {
     "data": {
      "text/plain": [
       "0"
      ]
     },
     "execution_count": 11,
     "metadata": {},
     "output_type": "execute_result"
    }
   ],
   "source": [
    "adjoint_run_file = prefix+'.adjoint_run.txt'\n",
    "subprocess.check_call('mpirun -np '+ str(Nproc) + ' ./adjoint '+adjoint_run_file, shell=True)"
   ]
  },
  {
   "cell_type": "code",
   "execution_count": 12,
   "metadata": {
    "collapsed": false
   },
   "outputs": [
    {
     "name": "stdout",
     "output_type": "stream",
     "text": [
      "1.18733461545e-05\n"
     ]
    }
   ],
   "source": [
    "fGrad0 = open(prefix+'.adjoint_run.txt','r')\n",
    "Grad0 = float(fGrad0.read())\n",
    "fGrad0.close()\n",
    "print Grad0"
   ]
  },
  {
   "cell_type": "code",
   "execution_count": 13,
   "metadata": {
    "collapsed": false
   },
   "outputs": [
    {
     "name": "stdout",
     "output_type": "stream",
     "text": [
      "0.1 0.0003588978740037931 1.188601237066809e-05 0.0010667773012258588\n",
      "0.05623413251903491 0.0003583773606142975 1.1880468634330484e-05 0.000599871319923841\n",
      "0.03162277660168379 0.0003580848675828324 1.1877350962473315e-05 0.0003372939624880861\n",
      "0.01778279410038923 0.0003579204540703127 1.1875597411421128e-05 0.0001896059367732686\n",
      "0.01 0.0003578280188735808 1.1874610685448216e-05 0.00010650164923105476\n",
      "0.005623413251903491 0.0003577760454831946 1.1874054684793503e-05 5.9674019725567335e-05\n",
      "0.0031622776601683794 0.0003577468208295464 1.1873740023860909e-05 3.3172566091533675e-05\n",
      "0.0017782794100389228 0.0003577303872731535 1.1873559525004054e-05 1.7970545152684343e-05\n",
      "0.001 0.0003577211462184295 1.1873451703173915e-05 8.889547366926398e-06\n",
      "0.0005623413251903491 0.0003577159496588773 1.1873379835149012e-05 2.836660171705237e-06\n",
      "0.00031622776601683794 0.0003577130274400048 1.1873319429851347e-05 2.25081027502293e-06\n",
      "0.00017782794100389227 0.0003577113841623172 1.1873249945971844e-05 8.102899365890373e-06\n",
      "0.0001 0.0003577104600814956 1.187314769288475e-05 1.6714885049094186e-05\n",
      "5.623413251903491e-05 0.0003577099404333375 1.187297787432011e-05 3.1017387682306916e-05\n",
      "3.1622776601683795e-05 0.0003577096482139134 1.187268252403185e-05 5.589245528469863e-05\n",
      "1.778279410038923e-05 0.0003577094838869243 1.187216119087184e-05 9.980031017465576e-05\n",
      "1e-05 0.0003577093914790882 1.1871236188076144e-05 0.00017770613248122661\n",
      "5.623413251903491e-06 0.0003577093395143475 1.1869592046780575e-05 0.00031617942165974134\n",
      "3.162277660168379e-06 0.0003577093102924318 1.1866670009146918e-05 0.000562280023430625\n",
      "1.778279410038923e-06 0.000357709293859739 1.1861472713352815e-05 0.0010000080005715065\n",
      "1e-06 0.0003577092846189615 1.1852235176374598e-05 0.0017780142052263841\n",
      "5.62341325190349e-07 0.0003577092794224887 1.183580517539851e-05 0.0031617859543435862\n",
      "3.162277660168379e-07 0.0003577092765002926 1.1806573300105815e-05 0.005623760440079769\n",
      "1.7782794100389227e-07 0.0003577092748570245 1.1754610618693305e-05 0.010000174699072176\n",
      "1e-07 0.0003577092739329443 1.166218001075886e-05 0.017784889027425768\n",
      "5.6234132519034905e-08 0.0003577092734132958 1.1497812201049789e-05 0.031628316783194874\n",
      "3.162277660168379e-08 0.0003577092731210824 1.1205723294619541e-05 0.05622870345005914\n",
      "1.7782794100389228e-08 0.0003577092729567533 1.068600217077776e-05 0.10000078901708928\n",
      "1e-08 0.0003577092728643441 9.761776890299112e-06 0.17784112723786114\n",
      "5.623413251903491e-09 0.0003577092728123824 8.118926477359997e-06 0.31620569536900706\n",
      "3.1622776601683795e-09 0.0003577092727831581 5.19618781816743e-06 0.5623653390920729\n",
      "1.7782794100389228e-09 0.0003577092727667263 0.0 1.0\n"
     ]
    }
   ],
   "source": [
    "Nk = 32\n",
    "Ak = 10.0**(-1.0-0.25*np.array(range(Nk)))\n",
    "QoIk = np.zeros((Nk,),dtype=np.double)\n",
    "Gradk = np.zeros((Nk,),dtype=np.double)\n",
    "ek = np.zeros((Nk,),dtype=np.double)\n",
    "\n",
    "baseline_control_forcing_file = prefix+'.control_forcing_controlRegion0.dat'\n",
    "# baseline_control_forcing_file = ''\n",
    "grad_file = prefix+'.gradient_controlRegion.dat'\n",
    "control_forcing_file = prefix+'.control_forcing_controlRegion.dat'\n",
    "for k in range(Nk):\n",
    "    actuation_amount = Ak[k]\n",
    "    command = './zaxpy '+control_forcing_file+' '+str(actuation_amount)+' '+grad_file+' '+baseline_control_forcing_file\n",
    "    subprocess.check_call(command, shell=True)\n",
    "    subprocess.check_call('mpirun -np '+ str(Nproc) + ' ./forward '+forward_run_file, shell=True)\n",
    "    fQoI0 = open(prefix+'.forward_run.txt','r')\n",
    "    QoIk[k] = float(fQoI0.read())\n",
    "    fQoI0.close()\n",
    "    Gradk[k] = (QoIk[k]-QoI0)/Ak[k]\n",
    "    ek[k] = abs( (Gradk[k]-Grad0)/Grad0 )\n",
    "    print actuation_amount, QoIk[k], Gradk[k], ek[k]"
   ]
  },
  {
   "cell_type": "code",
   "execution_count": 14,
   "metadata": {
    "collapsed": false
   },
   "outputs": [
    {
     "data": {
      "text/plain": [
       "[<matplotlib.lines.Line2D at 0x108a09290>]"
      ]
     },
     "execution_count": 14,
     "metadata": {},
     "output_type": "execute_result"
    },
    {
     "data": {
      "image/png": "[encoded data removed]",
      "text/plain": [
       "<matplotlib.figure.Figure at 0x108a6fbd0>"
      ]
     },
     "metadata": {},
     "output_type": "display_data"
    }
   ],
   "source": [
    "import matplotlib.pyplot as plt\n",
    "\n",
    "%matplotlib inline\n",
    "\n",
    "plt.figure(1)\n",
    "plt.loglog(Ak,ek,'o')"
   ]
  },
  {
   "cell_type": "code",
   "execution_count": null,
   "metadata": {
    "collapsed": false
   },
   "outputs": [],
   "source": [
    "fId = open(prefix+'.gradient_accuracy.txt','w')\n",
    "for k in range(32):\n",
    "    fId.write(str(Ak[k])+\"\\t\"+str(QoIk[k])+\"\\t\"+str(Gradk[k])+\"\\t\"+str(ek[k])+\"\\n\")\n",
    "fId.close()"
   ]
  },
  {
   "cell_type": "code",
   "execution_count": 3,
   "metadata": {
    "collapsed": false
   },
   "outputs": [
    {
     "data": {
      "text/plain": [
       "0"
      ]
     },
     "execution_count": 3,
     "metadata": {},
     "output_type": "execute_result"
    }
   ],
   "source": [
    "baseline_control_forcing_file = ''\n",
    "# grad_file = prefix+'.gradient_controlRegion.dat'\n",
    "grad_file = prefix+'.control_forcing_controlRegion0.dat'\n",
    "control_forcing_file = prefix+'.control_forcing_controlRegion.dat'\n",
    "actuation_amount = 0.5\n",
    "command = './zaxpy '+control_forcing_file+' '+str(actuation_amount)+' '+grad_file+' '+baseline_control_forcing_file\n",
    "subprocess.check_call(command, shell=True)"
   ]
  },
  {
   "cell_type": "code",
   "execution_count": null,
   "metadata": {
    "collapsed": true
   },
   "outputs": [],
   "source": []
  }
 ],
 "metadata": {
  "kernelspec": {
   "display_name": "Python 2",
   "language": "python",
   "name": "python2"
  },
  "language_info": {
   "codemirror_mode": {
    "name": "ipython",
    "version": 2
   },
   "file_extension": ".py",
   "mimetype": "text/x-python",
   "name": "python",
   "nbconvert_exporter": "python",
   "pygments_lexer": "ipython2",
   "version": "2.7.12"
  }
 },
 "nbformat": 4,
 "nbformat_minor": 0
}

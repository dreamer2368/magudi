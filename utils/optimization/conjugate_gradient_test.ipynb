{
 "cells": [
  {
   "cell_type": "code",
   "execution_count": 1,
   "metadata": {},
   "outputs": [],
   "source": [
    "import numpy as np\n",
    "import random\n",
    "\n",
    "dim = 2 #random.randint(40,100)\n",
    "xt = np.random.rand(dim)"
   ]
  },
  {
   "cell_type": "markdown",
   "metadata": {},
   "source": [
    "Generate pseudo-norm"
   ]
  },
  {
   "cell_type": "code",
   "execution_count": 2,
   "metadata": {},
   "outputs": [],
   "source": [
    "norm = np.random.rand(dim)*0.5+0.5\n",
    "norm = norm*np.linspace(1.0,1.0*dim,dim)\n",
    "\n",
    "from array import array\n",
    "output_file = open('norm.dat', 'wb')\n",
    "float_array = array('d',norm)\n",
    "float_array.tofile(output_file)\n",
    "output_file.close()\n",
    "\n",
    "input_file = open('norm.dat', 'rb')\n",
    "read_array = array('d')\n",
    "read_array.frombytes(input_file.read())\n",
    "\n",
    "def readVector(filename):\n",
    "    from array import array\n",
    "    input_file = open(filename,'rb')\n",
    "    read_array = array('d')\n",
    "    read_array.frombytes(input_file.read())\n",
    "    return np.array(read_array)"
   ]
  },
  {
   "cell_type": "markdown",
   "metadata": {},
   "source": [
    "pseudo forward-run and adjoint run"
   ]
  },
  {
   "cell_type": "code",
   "execution_count": 3,
   "metadata": {},
   "outputs": [],
   "source": [
    "forwardFilename = 'forward.txt'\n",
    "adjointFilename = 'adjoint.txt'\n",
    "gradientFilename = 'gradient.dat'\n",
    "\n",
    "def writeScalar(scalar, scalarFilename):\n",
    "    fID = open(scalarFilename,'w')\n",
    "    fID.write(\"{:16E}\".format(scalar))\n",
    "    fID.close()\n",
    "    return \n",
    "\n",
    "def forward(x):\n",
    "    J = 0.5*sum((x-xt)*norm*(x-xt))\n",
    "    writeScalar(J,forwardFilename)\n",
    "    return\n",
    "    \n",
    "def adjoint(x, gradientFilename):\n",
    "    dJ = x-xt\n",
    "    from array import array\n",
    "    float_array = array('d',dJ)\n",
    "    fID = open(gradientFilename, 'wb')\n",
    "    float_array.tofile(fID)\n",
    "    fID.close()\n",
    "    \n",
    "    writeScalar(sum((x-xt)*norm*(x-xt)),adjointFilename)\n",
    "    return\n",
    "    \n",
    "x = np.random.rand(dim)\n",
    "forward(x)\n",
    "adjoint(x,gradientFilename)"
   ]
  },
  {
   "cell_type": "markdown",
   "metadata": {},
   "source": [
    "Line minimization: $N$-point brute-force search"
   ]
  },
  {
   "cell_type": "code",
   "execution_count": 4,
   "metadata": {},
   "outputs": [],
   "source": [
    "NumSearch = 10\n",
    "golden_ratio = 1.618034\n",
    "initial_step = 0.1\n",
    "tol = 1.0e-8\n",
    "\n",
    "def mnbrak(x0,cg_direction):\n",
    "    stepBracket = np.zeros(3)\n",
    "    JBracket = np.zeros(3)\n",
    "    from optimization import readScalar\n",
    "\n",
    "    JBracket[0] = readScalar(forwardFilename)\n",
    "    \n",
    "    steps, Js = np.zeros(NumSearch+2), np.zeros(NumSearch+2)\n",
    "    steps[1:NumSearch+1] = initial_step*golden_ratio**np.linspace(0.0,NumSearch-1,NumSearch)\n",
    "    Js[0] = JBracket[0]\n",
    "\n",
    "    while True:\n",
    "        #The first and the last index will always be equal to outer bracket.\n",
    "        for k in range(NumSearch):\n",
    "            x1 = x0 + steps[k+1]*cg_direction\n",
    "            forward(x1)\n",
    "            Js[k+1] = readScalar(forwardFilename)\n",
    "        if (steps[NumSearch+1]==0.0):\n",
    "            steps[NumSearch+1], Js[NumSearch+1] = steps[NumSearch], Js[NumSearch]\n",
    "        minidx = np.argmin(Js)\n",
    "\n",
    "        if ( (minidx==0) | (Js[1]>=Js[0]) ):\n",
    "            stepBracket[2], JBracket[2] = steps[1], Js[1]\n",
    "            h = (stepBracket[2]-stepBracket[0])/(NumSearch+1)\n",
    "            steps[1:] = np.linspace(stepBracket[0]+h,stepBracket[2],NumSearch+1)\n",
    "            Js[-1:] = JBracket[2]\n",
    "        elif (minidx==NumSearch+1):\n",
    "            stepBracket[0], JBracket[0] = steps[minidx], Js[minidx]\n",
    "            steps[:NumSearch+1] = stepBracket[0]*golden_ratio**np.linspace(0.0,NumSearch,NumSearch+1)\n",
    "            steps[-1:] = 0.0\n",
    "        else:\n",
    "            stepBracket = steps[minidx-1:minidx+2]\n",
    "            JBracket = Js[minidx-1:minidx+2]\n",
    "            break\n",
    "    return stepBracket, JBracket"
   ]
  },
  {
   "cell_type": "code",
   "execution_count": 7,
   "metadata": {},
   "outputs": [
    {
     "name": "stdout",
     "output_type": "stream",
     "text": [
      "[0.68541022 1.10901703 1.79442727]\n",
      "[0.02235627 0.00268472 0.1425668 ]\n"
     ]
    }
   ],
   "source": [
    "grad = readVector(gradientFilename)\n",
    "\n",
    "stepBracket, JBracket = mnbrak(x,-grad)\n",
    "print (stepBracket)\n",
    "print (JBracket)"
   ]
  },
  {
   "cell_type": "code",
   "execution_count": 18,
   "metadata": {
    "scrolled": false
   },
   "outputs": [
    {
     "name": "stdout",
     "output_type": "stream",
     "text": [
      "4 0.020327889906974983\n",
      "5 0.009165430166709128\n",
      "3 0.001666441848492648\n",
      "5 0.00022724207024893417\n",
      "7 2.0658370022670725e-05\n",
      "5 5.63410091521237e-06\n",
      "3 1.0243819845914066e-06\n",
      "6 1.3968845249199474e-07\n",
      "5 2.116491693016087e-08\n",
      "[0.99999996 1.00000001 1.00000005]\n",
      "[3.017082e-16 7.557166e-18 5.229367e-16]\n"
     ]
    }
   ],
   "source": [
    "def linmin(x0, stepBracket0, JBracket0, cg_direction, tol=1.0e-7):\n",
    "    stepBracket, JBracket = stepBracket0, JBracket0\n",
    "    bracketSize = (stepBracket[2]-stepBracket[0])/2.0/stepBracket[1]\n",
    "    \n",
    "    while (bracketSize>tol):\n",
    "        steps, Js = np.zeros(NumSearch+3), np.zeros(NumSearch+3)\n",
    "        steps[0], Js[0] = stepBracket[0], JBracket[0]\n",
    "        steps[-1:], Js[-1:] = stepBracket[-1:], JBracket[-1:]\n",
    "        h = (stepBracket[2]-stepBracket[0])/(NumSearch+1)\n",
    "        intermediate_steps = np.linspace(stepBracket[0]+h,stepBracket[2]-h,NumSearch)\n",
    "        intermediate_Js = np.zeros(NumSearch)\n",
    "        idx, remainder = int((stepBracket[1]-stepBracket[0])//h), (stepBracket[1]-stepBracket[0])%h\n",
    "        if (remainder==0.0):\n",
    "            intermediate_steps[idx-1] -= 0.5*h\n",
    "        steps[1:idx+1], steps[idx+1], steps[idx+2:NumSearch+2] = intermediate_steps[:idx],            \\\n",
    "                                                                 stepBracket[1],                      \\\n",
    "                                                                 intermediate_steps[idx:NumSearch]\n",
    "        Js[idx+1] = JBracket[1]\n",
    "\n",
    "        from optimization import readScalar\n",
    "        for k in range(NumSearch):\n",
    "            x1 = x0 + intermediate_steps[k]*cg_direction\n",
    "            forward(x1)\n",
    "            intermediate_Js[k] = readScalar(forwardFilename)\n",
    "        Js[1:idx+1], Js[idx+2:NumSearch+2] = intermediate_Js[:idx], intermediate_Js[idx:NumSearch]\n",
    "        minidx = np.argmin(Js)\n",
    "        stepBracket, JBracket = steps[minidx-1:minidx+2], Js[minidx-1:minidx+2]\n",
    "        bracketSize = (stepBracket[2]-stepBracket[0])/2.0/stepBracket[1]\n",
    "\n",
    "    return stepBracket, JBracket\n",
    "    \n",
    "stepBracket, JBracket = linmin(x, stepBracket,JBracket,-grad)\n",
    "print (stepBracket)\n",
    "print (JBracket)"
   ]
  },
  {
   "cell_type": "code",
   "execution_count": null,
   "metadata": {},
   "outputs": [],
   "source": []
  }
 ],
 "metadata": {
  "kernelspec": {
   "display_name": "Python 3",
   "language": "python",
   "name": "python3"
  },
  "language_info": {
   "codemirror_mode": {
    "name": "ipython",
    "version": 3
   },
   "file_extension": ".py",
   "mimetype": "text/x-python",
   "name": "python",
   "nbconvert_exporter": "python",
   "pygments_lexer": "ipython3",
   "version": "3.7.3"
  }
 },
 "nbformat": 4,
 "nbformat_minor": 1
}

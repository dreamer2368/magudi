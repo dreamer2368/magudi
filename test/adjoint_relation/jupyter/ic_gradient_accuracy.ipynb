{
 "cells": [
  {
   "cell_type": "code",
   "execution_count": 1,
   "metadata": {},
   "outputs": [],
   "source": [
    "import numpy as np\n",
    "import subprocess\n",
    "\n",
    "prefix = 'AcousticMonopole'\n",
    "forwardFile = prefix+'.forward_run.txt'\n",
    "adjointFile = prefix+'.adjoint_run.txt'"
   ]
  },
  {
   "cell_type": "code",
   "execution_count": 2,
   "metadata": {},
   "outputs": [
    {
     "name": "stdout",
     "output_type": "stream",
     "text": [
      "QoI0:  0.005983793989376384\n"
     ]
    }
   ],
   "source": [
    "ic0File = prefix+'.ic.0.q'\n",
    "icFile = prefix+'.ic.q'\n",
    "subprocess.check_call('cp '+ic0File+' '+icFile, shell=True)\n",
    "subprocess.check_call('./forward --output '+forwardFile, shell=True)\n",
    "fQoI0 = open(forwardFile,'r')\n",
    "QoI0 = float(fQoI0.read())\n",
    "fQoI0.close()\n",
    "print (\"QoI0: \", QoI0)"
   ]
  },
  {
   "cell_type": "code",
   "execution_count": 7,
   "metadata": {},
   "outputs": [
    {
     "name": "stdout",
     "output_type": "stream",
     "text": [
      "Grad0:  1.349362300533714e-14\n"
     ]
    }
   ],
   "source": [
    "subprocess.check_call('./adjoint --output '+adjointFile, shell=True)\n",
    "fGrad0 = open(adjointFile,'r')\n",
    "Grad0 = float(fGrad0.read())\n",
    "fGrad0.close()\n",
    "print (\"Grad0: \", Grad0)"
   ]
  },
  {
   "cell_type": "code",
   "execution_count": 22,
   "metadata": {},
   "outputs": [
    {
     "name": "stdout",
     "output_type": "stream",
     "text": [
      "ic_grad0:  4.564786420616838e-07\n"
     ]
    }
   ],
   "source": [
    "ic_grad_file = prefix + '-00000000.adjoint.q'\n",
    "grad_norm_file = prefix + '.spatial_inner_product.txt'\n",
    "subprocess.check_call('mpirun -n 2 ./spatial_inner_product '+ic_grad_file+' '+ic_grad_file, shell=True)\n",
    "fQoI0 = open(grad_norm_file,'r')\n",
    "Grad0 = float(fQoI0.read())\n",
    "fQoI0.close()\n",
    "print (\"ic_grad0: \", Grad0)"
   ]
  },
  {
   "cell_type": "code",
   "execution_count": 19,
   "metadata": {},
   "outputs": [],
   "source": [
    "Nk = 20\n",
    "# Ak = np.zeros((Nk,),dtype=np.double)\n",
    "Ak = 10.0**(0.0-0.25*np.array(range(Nk)))\n",
    "QoIk = np.zeros((Nk,),dtype=np.double)\n",
    "Gradk = np.zeros((Nk,),dtype=np.double)\n",
    "ek = np.zeros((Nk,),dtype=np.double)\n",
    "\n",
    "forwardFile = prefix+'.forward_run.txt'"
   ]
  },
  {
   "cell_type": "code",
   "execution_count": 17,
   "metadata": {},
   "outputs": [
    {
     "data": {
      "text/plain": [
       "0"
      ]
     },
     "execution_count": 17,
     "metadata": {},
     "output_type": "execute_result"
    }
   ],
   "source": [
    "# solution zaxpy test\n",
    "zfile = icFile\n",
    "xfile = ic_grad_file\n",
    "yfile = ic0File\n",
    "subprocess.check_call('./qfile_zaxpy ' + zfile + \" \" + \\\n",
    "                      \"{:.16E}\".format(1.0e-3) + ' ' + \\\n",
    "                      xfile + ' ' + yfile, shell=True)"
   ]
  },
  {
   "cell_type": "code",
   "execution_count": 23,
   "metadata": {},
   "outputs": [
    {
     "name": "stdout",
     "output_type": "stream",
     "text": [
      "1.0000000000000000E+00 5.9842504838768171E-03 4.5649450043303008E-07 3.4740664480248774E-05\n",
      "5.6234132519034907E-01 5.9840506911956644E-03 4.5648755974575424E-07 1.9535818872377592E-05\n",
      "3.1622776601683794E-01 5.9839383421833991E-03 4.5648365680625355E-07 1.0985715666962814E-05\n",
      "1.7782794100389229E-01 5.9838751645348836E-03 4.5648146203173343E-07 6.1776604418533452E-06\n",
      "1.0000000000000001E-01 5.9838396373991694E-03 4.5648022785338416E-07 3.4739669159067344E-06\n",
      "5.6234132519034911E-02 5.9838196591069804E-03 4.5647953380741136E-07 1.9535322036476516E-06\n",
      "3.1622776601683791E-02 5.9838084245143631E-03 4.5647914352560187E-07 1.0985484792715750E-06\n",
      "1.7782794100389229E-02 5.9838021068470996E-03 4.5647892393889561E-07 6.1750361532497954E-07\n",
      "1.0000000000000000E-02 5.9837985541643908E-03 4.5647880067903324E-07 3.4748033052115716E-07\n",
      "5.6234132519034910E-03 5.9837965563449280E-03 4.5647873079712595E-07 1.9439122436851450E-07\n",
      "3.1622776601683794E-03 5.9837954328887553E-03 4.5647869238350109E-07 1.1023914951712650E-07\n",
      "1.7782794100389228E-03 5.9837948011230036E-03 4.5647866977062540E-07 6.0701507208082731E-08\n",
      "1.0000000000000000E-03 5.9837944458550410E-03 4.5647865695719325E-07 3.2631339261545512E-08\n",
      "5.6234132519034910E-04 5.9837942460731937E-03 4.5647865120869155E-07 2.0038194327051643E-08\n",
      "3.1622776601683794E-04 5.9837941337276069E-03 4.5647864712666344E-07 1.1095764740305333E-08\n",
      "1.7782794100389227E-04 5.9837940705510413E-03 4.5647864343194458E-07 3.0018069559945033E-09\n",
      "1.0000000000000000E-04 5.9837940350242497E-03 4.5647865695719325E-07 3.2631339261545512E-08\n",
      "5.6234132519034907E-05 5.9837940150460622E-03 4.5647860185152294E-07 8.8087715771686018E-08\n",
      "3.1622776601683795E-05 5.9837940038115064E-03 4.5647864986950208E-07 1.7104454709207556E-08\n",
      "1.7782794100389229E-05 5.9837939974938499E-03 4.5647865318701149E-07 2.4372066171169354E-08\n"
     ]
    }
   ],
   "source": [
    "forwardFile1 = prefix+'.forward_run.1.txt'\n",
    "\n",
    "fId = open(prefix+'.gradient_accuracy.txt','w')\n",
    "for k in range(Nk):\n",
    "    actuation_amount = Ak[k]\n",
    "    command = 'mpirun -n 2 ./qfile_zaxpy '+zfile+' '+\"{:.16E}\".format(actuation_amount)+' '+xfile+' '+yfile\n",
    "    subprocess.check_call(command, shell=True)\n",
    "    subprocess.check_call('./forward --output '+forwardFile1, shell=True)\n",
    "    fQoI1 = open(forwardFile1,'r')\n",
    "    QoIk[k] = float(fQoI1.read())\n",
    "    fQoI1.close()\n",
    "\n",
    "    Gradk[k] = (QoIk[k]-QoI0)/Ak[k]\n",
    "    ek[k] = abs( (Gradk[k]-Grad0)/Grad0 )\n",
    "    fId.write(\"{:.16E}\".format(actuation_amount)+'\\t'\n",
    "                +\"{:.16E}\".format(QoIk[k])+'\\t'\n",
    "                +\"{:.16E}\".format(Gradk[k])+'\\t'\n",
    "                +\"{:.16E}\".format(ek[k]))\n",
    "    print (\"{:.16E}\".format(actuation_amount), \"{:.16E}\".format(QoIk[k]), \"{:.16E}\".format(Gradk[k]), \"{:.16E}\".format(ek[k]))\n",
    "\n",
    "fId.close()"
   ]
  },
  {
   "cell_type": "code",
   "execution_count": 12,
   "metadata": {},
   "outputs": [
    {
     "data": {
      "text/plain": [
       "5.241170657766875e-05"
      ]
     },
     "execution_count": 12,
     "metadata": {},
     "output_type": "execute_result"
    }
   ],
   "source": [
    "Grad0*5.0e-2/6."
   ]
  },
  {
   "cell_type": "code",
   "execution_count": 21,
   "metadata": {},
   "outputs": [
    {
     "data": {
      "text/plain": [
       "[<matplotlib.lines.Line2D at 0x111522908>]"
      ]
     },
     "execution_count": 21,
     "metadata": {},
     "output_type": "execute_result"
    },
    {
     "data": {
      "image/png": "[encoded data removed]",
      "text/plain": [
       "<Figure size 432x288 with 1 Axes>"
      ]
     },
     "metadata": {
      "needs_background": "light"
     },
     "output_type": "display_data"
    }
   ],
   "source": [
    "import matplotlib.pyplot as plt\n",
    "%matplotlib inline\n",
    "\n",
    "plt.figure(1)\n",
    "plt.loglog(Ak,ek,'ok')"
   ]
  },
  {
   "cell_type": "code",
   "execution_count": null,
   "metadata": {},
   "outputs": [],
   "source": []
  }
 ],
 "metadata": {
  "kernelspec": {
   "display_name": "Python 3",
   "language": "python",
   "name": "python3"
  },
  "language_info": {
   "codemirror_mode": {
    "name": "ipython",
    "version": 3
   },
   "file_extension": ".py",
   "mimetype": "text/x-python",
   "name": "python",
   "nbconvert_exporter": "python",
   "pygments_lexer": "ipython3",
   "version": "3.7.3"
  }
 },
 "nbformat": 4,
 "nbformat_minor": 2
}

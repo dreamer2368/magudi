{
 "cells": [
  {
   "cell_type": "code",
   "execution_count": 15,
   "metadata": {},
   "outputs": [],
   "source": [
    "import numpy as np\n",
    "import subprocess\n",
    "\n",
    "prefix = 'AcousticMonopole'\n",
    "forwardFile = prefix+'.forward_run.txt'\n",
    "adjointFile = prefix+'.adjoint_run.txt'"
   ]
  },
  {
   "cell_type": "code",
   "execution_count": 16,
   "metadata": {},
   "outputs": [],
   "source": [
    "def QoI(forwardOutputFile, finalConditionFile):\n",
    "    fQoI0 = open(forwardOutputFile,'r')\n",
    "    QoI0 = float(fQoI0.read())\n",
    "    fQoI0.close()\n",
    "    \n",
    "    targetFile = prefix+'-00000006.q'\n",
    "    diffFile = prefix+'.diff.1.q'\n",
    "    subprocess.check_call('./qfile_zaxpy ' + diffFile + ' ' + \\\n",
    "                      \"{:.16E}\".format(-1.0) + ' ' + finalConditionFile + \\\n",
    "                      ' ' + targetFile, shell=True)\n",
    "    \n",
    "    diffOutput = prefix+'.diff.1.txt'\n",
    "    subprocess.check_call('./spatial_inner_product '+diffFile+' '+diffFile + \\\n",
    "                          ' --output ' + diffOutput, shell=True)\n",
    "    fID = open(diffOutput,'r')\n",
    "    diffQoI = float(fID.read())\n",
    "    fID.close()\n",
    "    \n",
    "    w = 1.0e-6\n",
    "    \n",
    "    return QoI0 + w * 0.5 * diffQoI"
   ]
  },
  {
   "cell_type": "code",
   "execution_count": 17,
   "metadata": {},
   "outputs": [
    {
     "name": "stdout",
     "output_type": "stream",
     "text": [
      "QoI0:  0.0016277912399411526\n"
     ]
    }
   ],
   "source": [
    "ic0File = prefix+'.ic.0.q'\n",
    "icFile = prefix+'.ic.q'\n",
    "subprocess.check_call('cp '+ic0File+' '+icFile, shell=True)\n",
    "subprocess.check_call('./forward --output '+forwardFile, shell=True)\n",
    "\n",
    "fcFile = prefix+'-00000006.fc.q'\n",
    "QoI0 = QoI(forwardFile, fcFile)\n",
    "print (\"QoI0: \", QoI0)"
   ]
  },
  {
   "cell_type": "code",
   "execution_count": 18,
   "metadata": {},
   "outputs": [
    {
     "name": "stdout",
     "output_type": "stream",
     "text": [
      "Grad0:  3.845137485220697e-21\n"
     ]
    }
   ],
   "source": [
    "# First intermediate adjoint\n",
    "# NOTE: change magudi.inp setup!!\n",
    "\n",
    "subprocess.check_call('./adjoint --output '+adjointFile, shell=True)\n",
    "fGrad0 = open(adjointFile,'r')\n",
    "Grad0 = float(fGrad0.read())\n",
    "fGrad0.close()\n",
    "print (\"Grad0: \", Grad0)"
   ]
  },
  {
   "cell_type": "code",
   "execution_count": 19,
   "metadata": {},
   "outputs": [
    {
     "name": "stdout",
     "output_type": "stream",
     "text": [
      "Grad0:  9.95738959048514e-19\n"
     ]
    }
   ],
   "source": [
    "# Second intermediate adjoint\n",
    "# NOTE: change magudi.inp setup!!\n",
    "\n",
    "dt = 1.0e-3\n",
    "w = 1.0e-6\n",
    "\n",
    "resultAdjointFile = prefix + '-00000006.adjoint.diff_added.q'\n",
    "targetAdjointFile = prefix + '-00000006.adjoint.q'\n",
    "diffFile = prefix+'.diff.1.q'\n",
    "subprocess.check_call('./qfile_zaxpy ' + resultAdjointFile + ' ' + \\\n",
    "                  \"{:.16E}\".format(w) + ' ' + diffFile + \\\n",
    "                  ' ' + targetAdjointFile, shell=True)\n",
    "subprocess.check_call('mv ' + resultAdjointFile + ' ' + \\\n",
    "                  targetAdjointFile, shell=True)\n",
    "\n",
    "subprocess.check_call('./adjoint --output '+adjointFile, shell=True)\n",
    "fGrad0 = open(adjointFile,'r')\n",
    "Grad0 = float(fGrad0.read())\n",
    "fGrad0.close()\n",
    "print (\"Grad0: \", Grad0)"
   ]
  },
  {
   "cell_type": "code",
   "execution_count": 20,
   "metadata": {},
   "outputs": [
    {
     "name": "stdout",
     "output_type": "stream",
     "text": [
      "ic_grad0:  3.752808318713404e-09\n"
     ]
    }
   ],
   "source": [
    "ic_grad_file = prefix + '-00000000.adjoint.q'\n",
    "grad_norm_file = prefix + '.spatial_inner_product.txt'\n",
    "subprocess.check_call('mpirun -n 2 ./spatial_inner_product '+ic_grad_file+' '+ic_grad_file, shell=True)\n",
    "fQoI0 = open(grad_norm_file,'r')\n",
    "icGrad0 = float(fQoI0.read())\n",
    "fQoI0.close()\n",
    "print (\"ic_grad0: \", icGrad0)"
   ]
  },
  {
   "cell_type": "code",
   "execution_count": 62,
   "metadata": {},
   "outputs": [
    {
     "name": "stdout",
     "output_type": "stream",
     "text": [
      "match_grad0:  3.0299224497818367e-09\n"
     ]
    }
   ],
   "source": [
    "grad_norm_file = prefix + '.spatial_inner_product.txt'\n",
    "subprocess.check_call('mpirun -n 2 ./spatial_inner_product '+diffFile+' '+diffFile, shell=True)\n",
    "fQoI0 = open(grad_norm_file,'r')\n",
    "matchGrad0 = w*w*float(fQoI0.read())\n",
    "fQoI0.close()\n",
    "print (\"match_grad0: \", matchGrad0)"
   ]
  },
  {
   "cell_type": "code",
   "execution_count": 59,
   "metadata": {},
   "outputs": [],
   "source": [
    "Nk = 20\n",
    "# Ak = np.zeros((Nk,),dtype=np.double)\n",
    "Ak = 10.0**(11.0-0.25*np.array(range(Nk)))\n",
    "QoIk = np.zeros((Nk,),dtype=np.double)\n",
    "Gradk = np.zeros((Nk,),dtype=np.double)\n",
    "ek = np.zeros((Nk,),dtype=np.double)\n",
    "\n",
    "forwardFile = prefix+'.forward_run.txt'"
   ]
  },
  {
   "cell_type": "code",
   "execution_count": 51,
   "metadata": {},
   "outputs": [
    {
     "data": {
      "text/plain": [
       "0"
      ]
     },
     "execution_count": 51,
     "metadata": {},
     "output_type": "execute_result"
    }
   ],
   "source": [
    "# solution zaxpy test\n",
    "zfile = icFile\n",
    "xfile = ic_grad_file\n",
    "yfile = ic0File\n",
    "subprocess.check_call('./qfile_zaxpy ' + zfile + \" \" + \\\n",
    "                      \"{:.16E}\".format(0.0e-3) + ' ' + \\\n",
    "                      xfile + ' ' + yfile, shell=True)"
   ]
  },
  {
   "cell_type": "code",
   "execution_count": 64,
   "metadata": {},
   "outputs": [
    {
     "name": "stdout",
     "output_type": "stream",
     "text": [
      "1.0000000000000000E+11 1.6279586502940184E-03 1.6741035286575549E-18 5.4654779986551024E-05\n",
      "5.6234132519034904E+10 1.6278853802922711E-03 1.6740784804785107E-18 3.9691817649950625E-05\n",
      "3.1622776601683792E+10 1.6278441780313532E-03 1.6740494001309261E-18 2.2320169799717045E-05\n",
      "1.7782794100389229E+10 1.6278210089261454E-03 1.6740330470414170E-18 1.2551369362005293E-05\n",
      "1.0000000000000000E+10 1.6278079801796633E-03 1.6740238510714115E-18 7.0579978638624062E-06\n",
      "5.6234132519034910E+09 1.6278006536399807E-03 1.6740186798227128E-18 3.9688631457042442E-06\n",
      "3.1622776601683793E+09 1.6277965336438304E-03 1.6740157717634033E-18 2.2316836947147570E-06\n",
      "1.7782794100389228E+09 1.6277942168060233E-03 1.6740141363075414E-18 1.2547158911233004E-06\n",
      "1.0000000000000000E+09 1.6277929139543702E-03 1.6740132175417643E-18 7.0587528701425103E-07\n",
      "5.6234132519034910E+08 1.6277921813076719E-03 1.6740126984665201E-18 3.9579672538700106E-07\n",
      "3.1622776601683795E+08 1.6277917693103567E-03 1.6740124080146571E-18 2.2229028886924729E-07\n",
      "1.7782794100389227E+08 1.6277915376273029E-03 1.6740122422393483E-18 1.2326154521336966E-07\n",
      "1.0000000000000000E+08 1.6277914073423677E-03 1.6740121506868266E-18 6.8571065233196306E-08\n",
      "5.6234132519034907E+07 1.6277913340777710E-03 1.6740121027100708E-18 3.9911321641335362E-08\n",
      "3.1622776601683792E+07 1.6277912928780623E-03 1.6740120672169554E-18 1.8708896140419903E-08\n",
      "1.7782794100389227E+07 1.6277912697097638E-03 1.6740120264084914E-18 5.6687445469231766E-09\n",
      "1.0000000000000000E+07 1.6277912566812730E-03 1.6740120357613964E-18 8.1625248287453797E-11\n",
      "5.6234132519034911E+06 1.6277912493548137E-03 1.6740119600370051E-18 4.5316898152129971E-08\n",
      "3.1622776601683795E+06 1.6277912452348432E-03 1.6740119575034092E-18 4.6830385414727359E-08\n",
      "1.7782794100389229E+06 1.6277912429180136E-03 1.6740119288578213E-18 6.3942322051608600E-08\n"
     ]
    }
   ],
   "source": [
    "forwardFile1 = prefix+'.forward_run.1.txt'\n",
    "baseline_control_forcing_file = ['']\n",
    "grad_file = [prefix+'.gradient_controlRegion.dat']\n",
    "control_forcing_file = [prefix+'.control_forcing_controlRegion.dat']\n",
    "\n",
    "w2 = 1.0e-10\n",
    "Grad = Grad0 + icGrad0 * w2 + matchGrad0 * w2\n",
    "# Grad = Grad0\n",
    "# Grad = icGrad0 * w2\n",
    "\n",
    "fc1File = prefix+'-00000006.fc.1.q'\n",
    "\n",
    "fId = open(prefix+'.gradient_accuracy.txt','w')\n",
    "for k in range(Nk):\n",
    "    actuation_amount = Ak[k]\n",
    "    i = 0\n",
    "    command = './zaxpy '+control_forcing_file[i]+' '+\"{:.16E}\".format(actuation_amount)+' '+grad_file[i]+' '+baseline_control_forcing_file[i]\n",
    "    subprocess.check_call(command, shell=True)\n",
    "    command = 'mpirun -n 2 ./qfile_zaxpy '+zfile+' '+\"{:.16E}\".format(actuation_amount*w2)+' '+xfile+' '+yfile\n",
    "    subprocess.check_call(command, shell=True)\n",
    "    command = 'mpirun -n 2 ./qfile_zaxpy '+fc1File+' '+\"{:.16E}\".format(actuation_amount*w2*(-w))+' '+diffFile+' '+fcFile\n",
    "    subprocess.check_call(command, shell=True)\n",
    "    subprocess.check_call('./forward --output '+forwardFile1, shell=True)\n",
    "    QoIk[k] = QoI(forwardFile1, fc1File)\n",
    "\n",
    "    Gradk[k] = (QoIk[k]-QoI0)/Ak[k]\n",
    "    ek[k] = abs( (Gradk[k]-Grad)/Grad )\n",
    "    fId.write(\"{:.16E}\".format(actuation_amount)+'\\t'\n",
    "                +\"{:.16E}\".format(QoIk[k])+'\\t'\n",
    "                +\"{:.16E}\".format(Gradk[k])+'\\t'\n",
    "                +\"{:.16E}\".format(ek[k]))\n",
    "    print (\"{:.16E}\".format(actuation_amount), \"{:.16E}\".format(QoIk[k]), \"{:.16E}\".format(Gradk[k]), \"{:.16E}\".format(ek[k]))\n",
    "\n",
    "fId.close()"
   ]
  },
  {
   "cell_type": "code",
   "execution_count": 65,
   "metadata": {},
   "outputs": [
    {
     "data": {
      "text/plain": [
       "[<matplotlib.lines.Line2D at 0x10db9eb38>]"
      ]
     },
     "execution_count": 65,
     "metadata": {},
     "output_type": "execute_result"
    },
    {
     "data": {
      "image/png": "[encoded data removed]",
      "text/plain": [
       "<Figure size 432x288 with 1 Axes>"
      ]
     },
     "metadata": {
      "needs_background": "light"
     },
     "output_type": "display_data"
    }
   ],
   "source": [
    "import matplotlib.pyplot as plt\n",
    "%matplotlib inline\n",
    "\n",
    "plt.figure(1)\n",
    "plt.loglog(Ak,ek,'ok')"
   ]
  },
  {
   "cell_type": "code",
   "execution_count": null,
   "metadata": {},
   "outputs": [],
   "source": []
  }
 ],
 "metadata": {
  "kernelspec": {
   "display_name": "Python 3",
   "language": "python",
   "name": "python3"
  },
  "language_info": {
   "codemirror_mode": {
    "name": "ipython",
    "version": 3
   },
   "file_extension": ".py",
   "mimetype": "text/x-python",
   "name": "python",
   "nbconvert_exporter": "python",
   "pygments_lexer": "ipython3",
   "version": "3.7.3"
  }
 },
 "nbformat": 4,
 "nbformat_minor": 2
}

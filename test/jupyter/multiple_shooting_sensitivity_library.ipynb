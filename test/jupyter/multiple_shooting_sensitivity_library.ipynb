{
 "cells": [
  {
   "cell_type": "code",
   "execution_count": 1,
   "metadata": {},
   "outputs": [
    {
     "name": "stdout",
     "output_type": "stream",
     "text": [
      "['AcousticMonopole-0', 'AcousticMonopole-1', 'AcousticMonopole-2']\n",
      "['magudi-0.inp', 'magudi-1.inp', 'magudi-2.inp']\n",
      "['AcousticMonopole-0.forward_run.txt', 'AcousticMonopole-1.forward_run.txt', 'AcousticMonopole-2.forward_run.txt']\n",
      "['AcousticMonopole-0.command.sh', 'AcousticMonopole-1.command.sh', 'AcousticMonopole-2.command.sh']\n",
      "['AcousticMonopole-0.ic.q', 'AcousticMonopole-1.ic.q', 'AcousticMonopole-2.ic.q']\n",
      "['AcousticMonopole-0.diff.q', 'AcousticMonopole-1.diff.q', '']\n",
      "['AcousticMonopole-0.diff.txt', 'AcousticMonopole-1.diff.txt', '']\n",
      "['AcousticMonopole-0-00000016.q', 'AcousticMonopole-1-00000020.q', '']\n",
      "['AcousticMonopole-0-00000016.adjoint.q', 'AcousticMonopole-1-00000020.adjoint.q', '']\n",
      "['', 'AcousticMonopole-1-00000016.adjoint.q', 'AcousticMonopole-2-00000020.adjoint.q']\n",
      "['', 'AcousticMonopole-1.ic.adjoint.q', 'AcousticMonopole-2.ic.adjoint.q']\n",
      "['AcousticMonopole.inner_product_controlRegion.txt', 'AcousticMonopole-1.inner_product.txt', 'AcousticMonopole-2.inner_product.txt']\n",
      "['0', '1', '2']\n",
      "['AcousticMonopole.gradient_controlRegion.dat']\n"
     ]
    }
   ],
   "source": [
    "import numpy as np\n",
    "import subprocess\n",
    "\n",
    "from base import *\n",
    "\n",
    "print (prefixes)\n",
    "print (inputFiles)\n",
    "print (outputFiles)\n",
    "print (commandFiles)\n",
    "print (icFiles)\n",
    "print (diffFiles)\n",
    "print (diffOutputFiles)\n",
    "print (matchingForwardFiles)\n",
    "print (matchingAdjointFiles)\n",
    "print (icAdjointFiles)\n",
    "print (icGradientFiles)\n",
    "print (innerProductFiles)\n",
    "print (directories)\n",
    "\n",
    "print (globalGradFiles)"
   ]
  },
  {
   "cell_type": "code",
   "execution_count": 2,
   "metadata": {},
   "outputs": [
    {
     "name": "stdout",
     "output_type": "stream",
     "text": [
      "['AcousticMonopole.ic.0.baseline.q', 'AcousticMonopole.ic.1.baseline.q', 'AcousticMonopole.ic.2.baseline.q']\n"
     ]
    }
   ],
   "source": [
    "baseline_ic = []\n",
    "for k in range(Nsplit):\n",
    "    baseline_ic += ['%s.ic.%1d.baseline.q'%(globalPrefix,k)]\n",
    "print (baseline_ic)\n",
    "\n",
    "for k in range(Nsplit):\n",
    "    subprocess.check_call('cp '+baseline_ic[k]+' '+directories[k]+'/'+icFiles[k], shell=True)\n",
    "    subprocess.check_call('cp '+globalPrefix+'.xyz'+' '+directories[k], shell=True)\n",
    "\n",
    "for k in range(Nsplit):\n",
    "    fID = open(commandFiles[k],'w')\n",
    "    fID.write('cd '+directories[k]+'\\n')\n",
    "    fID.write('./forward --input '+inputFiles[k]+'\\n')\n",
    "    fID.write('cd ..'+'\\n')\n",
    "    if (k<Nsplit-1):\n",
    "        kOffset = startTimestep + NtimestepOffset * (k+1)\n",
    "        matchingFile = '%s/%s'%(directories[k],matchingForwardFiles[k])\n",
    "        icFile = '%s/%s'%(directories[k+1],icFiles[k+1])\n",
    "        diffFile = '%s'%(diffFiles[k])\n",
    "        inputFile = '%s/%s'%(directories[k],inputFiles[k])\n",
    "        fID.write('./qfile_zaxpy ' + diffFile + ' ' + \\\n",
    "                  \"{:.16E}\".format(-1.0) + ' ' + icFile + \\\n",
    "                  ' ' + matchingFile + ' --input ' + inputFile + '\\n')\n",
    "        \n",
    "        diffOutputFile = '%s'%(diffOutputFiles[k])\n",
    "        fID.write('./spatial_inner_product '+diffFile+' '+diffFile + \\\n",
    "                              ' --output ' + diffOutputFile + \\\n",
    "                              ' --input ' + inputFile + '\\n')\n",
    "    fID.close()\n",
    "    subprocess.check_call('sh '+commandFiles[k], shell=True)"
   ]
  },
  {
   "cell_type": "code",
   "execution_count": 3,
   "metadata": {},
   "outputs": [
    {
     "name": "stdout",
     "output_type": "stream",
     "text": [
      "5.8981888378643225e-08\n",
      "[1.07935345e-08 1.18830621e-08 1.13426404e-08 1.29499030e-01\n",
      " 1.20127484e-01]\n"
     ]
    }
   ],
   "source": [
    "QoI0, subJ = QoI('.')\n",
    "print (QoI0)\n",
    "print (subJ)"
   ]
  },
  {
   "cell_type": "code",
   "execution_count": 4,
   "metadata": {},
   "outputs": [],
   "source": [
    "from base import setOptionCommand\n",
    "\n",
    "for k in range(Nsplit-1):\n",
    "    fID = open(commandFiles[k],'w')\n",
    "    fID.write(setOptionCommand(inputFiles[k]))\n",
    "    fID.write('cd ' + directories[k] + '\\n')\n",
    "    fID.write('setOption \"enable_adjoint_restart\" \"true\"\\n')\n",
    "    fID.write('setOption \"number_of_timesteps\" '+str(Nts-NtimestepOffset)+'\\n')\n",
    "    fID.write('setOption \"adjoint_restart\\/accumulated_timesteps\" '+str(int(0))+'\\n')\n",
    "    fID.write('setOption \"adjoint_restart\\/intermediate_end_timestep\" '+str(NtimestepOffset)+'\\n')\n",
    "    fID.write('./adjoint --input ' + inputFiles[k] + '\\n')\n",
    "    fID.write('cd .. \\n')\n",
    "    \n",
    "    matchingAdjointFile = '%s/%s'%(directories[k],matchingAdjointFiles[k])\n",
    "    inputFile = '%s/%s'%(directories[k],inputFiles[k])\n",
    "    diffFile = '%s'%(diffFiles[k])\n",
    "    fID.write('./qfile_zaxpy ' + matchingAdjointFile + ' ' +       \\\n",
    "              \"{:.16E}\".format(matchingConditionWeight) + ' ' + diffFile +              \\\n",
    "              ' ' + matchingAdjointFile + ' --input ' + inputFile + '\\n')\n",
    "    \n",
    "    fID.write('cd ' + directories[k] + '\\n')\n",
    "    fID.write('setOption \"number_of_timesteps\" '+str(NtimestepOffset)+'\\n')\n",
    "    fID.write('setOption \"adjoint_restart\\/accumulated_timesteps\" '+str(Nts-NtimestepOffset)+'\\n')\n",
    "    fID.write('setOption \"adjoint_restart\\/intermediate_end_timestep\" '+str(int(0))+'\\n')\n",
    "    fID.write('./adjoint --input ' + inputFiles[k] + '\\n')\n",
    "    \n",
    "    fID.write('setOption \"number_of_timesteps\" '+str(Nts)+'\\n')\n",
    "    fID.write('setOption \"enable_adjoint_restart\" \"false\"\\n')\n",
    "    fID.write('cd .. \\n')\n",
    "    \n",
    "    if (k>0):\n",
    "        icAdjointFile = '%s/%s' % (directories[k],icAdjointFiles[k])\n",
    "        diffFile = '%s.diff.q'%(prefixes[k-1])\n",
    "        icGradFile = '%s' % (icGradientFiles[k])\n",
    "        inputFile = '%s/%s'%(directories[k],inputFiles[k])\n",
    "        fID.write('./qfile_zaxpy ' + icGradFile + ' ' +                                          \\\n",
    "                  \"{:.16E}\".format(-matchingConditionWeight) + ' ' + diffFile +                  \\\n",
    "                  ' ' + icAdjointFile + ' --input ' + inputFile + '\\n')\n",
    "    fID.close()\n",
    "\n",
    "k = Nsplit - 1\n",
    "fID = open(commandFiles[k],'w')\n",
    "fID.write(setOptionCommand(inputFiles[k]))\n",
    "fID.write('cd ' + directories[k] + '\\n')\n",
    "fID.write('setOption \"enable_adjoint_restart\" \"false\"\\n')\n",
    "fID.write('setOption \"number_of_timesteps\" '+str(Nts)+'\\n')\n",
    "fID.write('./adjoint --input ' + inputFiles[k] + '\\n')\n",
    "fID.write('cd .. \\n')\n",
    "\n",
    "icAdjointFile = '%s/%s' % (directories[k],icAdjointFiles[k])\n",
    "diffFile = '%s.diff.q'%(prefixes[k-1])\n",
    "icGradFile = '%s' % (icGradientFiles[k])\n",
    "inputFile = '%s/%s'%(directories[k],inputFiles[k])\n",
    "fID.write('./qfile_zaxpy ' + icGradFile + ' ' +                                          \\\n",
    "          \"{:.16E}\".format(-matchingConditionWeight) + ' ' + diffFile +                  \\\n",
    "          ' ' + icAdjointFile + ' --input ' + inputFile + '\\n')\n",
    "fID.close()\n",
    "\n",
    "for k in range(Nsplit):\n",
    "    subprocess.check_call('sh '+commandFiles[k], shell=True)"
   ]
  },
  {
   "cell_type": "code",
   "execution_count": 5,
   "metadata": {},
   "outputs": [
    {
     "data": {
      "text/plain": [
       "0"
      ]
     },
     "execution_count": 5,
     "metadata": {},
     "output_type": "execute_result"
    }
   ],
   "source": [
    "for k in range(NcontrolRegion):\n",
    "    from os import path\n",
    "    if (path.exists(globalGradFiles[k])):\n",
    "        subprocess.check_call('rm '+globalGradFiles[k], shell=True)\n",
    "\n",
    "fID = open(globalCommandFile,'w')\n",
    "for k in range(Nsplit):\n",
    "    kOffset = NtimestepOffset * k\n",
    "    for j in range(NcontrolRegion):\n",
    "        sliceGradFile = '%s/%s%s'%(directories[k],prefixes[k],gradientFiles[j])\n",
    "        command = './paste_control_forcing ' + globalGradFiles[j] + ' ' + sliceGradFile + ' ' + \\\n",
    "                  str(int(totalTimestep)) + ' ' + str(int(kOffset)) + ' ' + str(int(Nts)) + '\\n'\n",
    "        fID.write(command)\n",
    "fID.close()\n",
    "    \n",
    "subprocess.check_call('sh '+globalCommandFile, shell=True)"
   ]
  },
  {
   "cell_type": "code",
   "execution_count": 6,
   "metadata": {},
   "outputs": [
    {
     "data": {
      "text/plain": [
       "0"
      ]
     },
     "execution_count": 6,
     "metadata": {},
     "output_type": "execute_result"
    }
   ],
   "source": [
    "controlSpaceFiles = globalGradFiles + icGradientFiles[1:]\n",
    "\n",
    "fID = open(globalCommandFile,'w')\n",
    "fID.write(innerProductCommand(controlSpaceFiles,controlSpaceFiles))\n",
    "fID.close()\n",
    "\n",
    "subprocess.check_call('sh '+globalCommandFile, shell=True)"
   ]
  },
  {
   "cell_type": "code",
   "execution_count": 7,
   "metadata": {},
   "outputs": [
    {
     "name": "stdout",
     "output_type": "stream",
     "text": [
      "3.592012302447478e-14\n",
      "[1.28680324e-23 2.34591470e-14 1.24609760e-14]\n",
      "1.2868032367438400E-23\n"
     ]
    }
   ],
   "source": [
    "Grad, subGrad = readInnerProduct('gg.txt')\n",
    "print (Grad)\n",
    "print (subGrad)\n",
    "print ('{:.16E}'.format(subGrad[0]))"
   ]
  },
  {
   "cell_type": "code",
   "execution_count": 8,
   "metadata": {},
   "outputs": [],
   "source": [
    "Nk = 20\n",
    "Ak = 10.0**(12.0-0.25*np.array(range(Nk)))\n",
    "QoIk = np.zeros((Nk,),dtype=np.double)\n",
    "Gradk = np.zeros((Nk,),dtype=np.double)\n",
    "ek = np.zeros((Nk,),dtype=np.double)"
   ]
  },
  {
   "cell_type": "code",
   "execution_count": 9,
   "metadata": {},
   "outputs": [
    {
     "name": "stdout",
     "output_type": "stream",
     "text": [
      "['step/AcousticMonopole.control_forcing_controlRegion.dat', 'step/AcousticMonopole-1.ic.q', 'step/AcousticMonopole-2.ic.q']\n",
      "['AcousticMonopole.control_forcing_controlRegion.dat']\n",
      "['AcousticMonopole-0.ic.q', 'AcousticMonopole-1.ic.q', 'AcousticMonopole-2.ic.q']\n"
     ]
    }
   ],
   "source": [
    "baselineFiles = [''] + baseline_ic[1:]\n",
    "stepFiles = globalControlForcingFiles + icFiles[1:]\n",
    "for k, file in enumerate(stepFiles):\n",
    "    stepFiles[k] = 'step/' + file\n",
    "print (stepFiles)\n",
    "print (globalControlForcingFiles)\n",
    "print (icFiles)"
   ]
  },
  {
   "cell_type": "code",
   "execution_count": 10,
   "metadata": {},
   "outputs": [
    {
     "name": "stdout",
     "output_type": "stream",
     "text": [
      "Grad:  4.878815537904516e-23\n",
      "1.0000000000000000E+12 5.9030689285464812E-08 4.8800906821586823E-23 2.6136348961333135E-04\n",
      "5.6234132519034912E+11 5.9009328006952798E-08 4.8795326042035794E-23 1.4697548892606560E-04\n",
      "3.1622776601683795E+11 5.8997317823170931E-08 4.8792187738773421E-23 8.2650383006587468E-05\n",
      "1.7782794100389227E+11 5.8990564679095657E-08 4.8790422941706391E-23 4.6477728940889735E-05\n",
      "1.0000000000000000E+11 5.8986767321695549E-08 4.8789430523240892E-23 2.6136347763664144E-05\n",
      "5.6234132519034904E+10 5.8984631978561580E-08 4.8788872441952431E-23 1.4697479371822895E-05\n",
      "3.1622776601683792E+10 5.8983431208332936E-08 4.8788558612185110E-23 8.2649802358728870E-06\n",
      "1.7782794100389229E+10 5.8982755972397262E-08 4.8788382137216973E-23 4.6478119546361715E-06\n",
      "1.0000000000000000E+10 5.8982376261472148E-08 4.8788282892329642E-23 2.6136115106851763E-06\n",
      "5.6234132519034910E+09 5.8982162735005935E-08 4.8788227082084122E-23 1.4696812865058663E-06\n",
      "3.1622776601683793E+09 5.8982042660464450E-08 4.8788195662972398E-23 8.2569072199466719E-07\n",
      "1.7782794100389228E+09 5.8981975137655639E-08 4.8788178013303688E-23 4.6392937699506642E-07\n",
      "1.0000000000000000E+09 5.8981937166811249E-08 4.8788168024074082E-23 2.5918235329115115E-07\n",
      "5.6234132519034910E+08 5.8981915814243118E-08 4.8788162392870510E-23 1.4376082263531132E-07\n",
      "3.1622776601683795E+08 5.8981903806813822E-08 4.8788159215813028E-23 7.8641380060588384E-08\n",
      "1.7782794100389227E+08 5.8981897054540850E-08 4.8788157680324102E-23 4.7168804110189663E-08\n",
      "1.0000000000000000E+08 5.8981893257458855E-08 4.8788156297961718E-23 1.8834828919934328E-08\n",
      "5.6234132519034907E+07 5.8981891122202694E-08 4.8788153143485029E-23 4.5821780130164924E-08\n",
      "3.1622776601683792E+07 5.8981889921460157E-08 4.8788155177056790E-23 4.1401107823661694E-09\n",
      "1.7782794100389227E+07 5.8981889246232834E-08 4.8788149084207187E-23 1.2902389773986372E-07\n"
     ]
    }
   ],
   "source": [
    "baselineFiles = [''] + baseline_ic[1:]\n",
    "stepFiles = globalControlForcingFiles + icFiles[1:]\n",
    "for k, file in enumerate(stepFiles):\n",
    "    stepFiles[k] = 'step/' + file\n",
    "    \n",
    "from os import path\n",
    "if (path.exists(stepFiles[0])):\n",
    "    subprocess.check_call('rm '+stepFiles[0], shell=True)\n",
    "\n",
    "w2=initialConditionControllability\n",
    "Grad = subGrad[0] + np.sum(subGrad[1:]) * w2\n",
    "print ('Grad: ', Grad)\n",
    "    \n",
    "for k in range(Nk):\n",
    "    command = zaxpyCommand(stepFiles,Ak[k],controlSpaceFiles,baselineFiles)\n",
    "    subprocess.check_call(command, shell=True)\n",
    "    command = distributeCommand('step')\n",
    "    subprocess.check_call(command, shell=True)\n",
    "    for j in range(Nsplit):\n",
    "        commandFile = commandFiles[j]\n",
    "        fID = open(commandFile,'w')\n",
    "        fID.write(setOptionCommand(inputFiles[j]))\n",
    "        fID.write('cd step/'+directories[j]+'\\n')\n",
    "        fID.write('setOption \"controller_switch\" \"true\"\\n')\n",
    "        fID.write('./forward --input ' + inputFiles[j] + ' --output ' + outputFiles[j] + '\\n')\n",
    "        fID.write('setOption \"controller_switch\" \"false\"\\n')\n",
    "        fID.write('cd ../../'+'\\n')\n",
    "        if (j<Nsplit-1):\n",
    "            jOffset = startTimestep + NtimestepOffset * (j+1)\n",
    "            matchingFile = 'step/%s/%s'%(directories[j],matchingForwardFiles[j])\n",
    "            icFile = 'step/%s/%s'%(directories[j+1],icFiles[j+1])\n",
    "            diffFile = 'step/%s'%(diffFiles[j])\n",
    "            inputFile = 'step/%s/%s'%(directories[j],inputFiles[j])\n",
    "            fID.write('./qfile_zaxpy ' + diffFile + ' ' + \\\n",
    "                      \"{:.16E}\".format(-1.0) + ' ' + icFile + \\\n",
    "                      ' ' + matchingFile + ' --input ' + inputFile + '\\n')\n",
    "\n",
    "            diffOutputFile = 'step/%s'%(diffOutputFiles[j])\n",
    "            fID.write('./spatial_inner_product '+diffFile+' '+diffFile + \\\n",
    "                                  ' --output ' + diffOutputFile + \\\n",
    "                                  ' --input ' + inputFile + '\\n')\n",
    "        fID.close()\n",
    "        subprocess.check_call('sh '+commandFile, shell=True)\n",
    "    QoIk[k], subJ = QoI('step')\n",
    "    Gradk[k] = (QoIk[k]-QoI0)/Ak[k]\n",
    "    ek[k] = abs( (Gradk[k]-Grad)/Grad )\n",
    "    print (\"{:.16E}\".format(Ak[k]), \"{:.16E}\".format(QoIk[k]), \"{:.16E}\".format(Gradk[k]), \"{:.16E}\".format(ek[k]))"
   ]
  },
  {
   "cell_type": "code",
   "execution_count": 11,
   "metadata": {},
   "outputs": [
    {
     "data": {
      "text/plain": [
       "[<matplotlib.lines.Line2D at 0x117913e80>]"
      ]
     },
     "execution_count": 11,
     "metadata": {},
     "output_type": "execute_result"
    },
    {
     "data": {
      "image/png": "[encoded data removed]",
      "text/plain": [
       "<Figure size 432x288 with 1 Axes>"
      ]
     },
     "metadata": {
      "needs_background": "light"
     },
     "output_type": "display_data"
    }
   ],
   "source": [
    "import matplotlib.pyplot as plt\n",
    "%matplotlib inline\n",
    "\n",
    "plt.figure(1)\n",
    "plt.loglog(Ak,ek,'ok')"
   ]
  },
  {
   "cell_type": "code",
   "execution_count": null,
   "metadata": {},
   "outputs": [],
   "source": []
  }
 ],
 "metadata": {
  "kernelspec": {
   "display_name": "Python 3",
   "language": "python",
   "name": "python3"
  },
  "language_info": {
   "codemirror_mode": {
    "name": "ipython",
    "version": 3
   },
   "file_extension": ".py",
   "mimetype": "text/x-python",
   "name": "python",
   "nbconvert_exporter": "python",
   "pygments_lexer": "ipython3",
   "version": "3.7.3"
  }
 },
 "nbformat": 4,
 "nbformat_minor": 2
}

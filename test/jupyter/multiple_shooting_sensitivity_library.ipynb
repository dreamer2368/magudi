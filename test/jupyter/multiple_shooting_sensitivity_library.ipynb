{
 "cells": [
  {
   "cell_type": "code",
   "execution_count": 1,
   "metadata": {},
   "outputs": [
    {
     "name": "stdout",
     "output_type": "stream",
     "text": [
      "['AcousticMonopole-0', 'AcousticMonopole-1', 'AcousticMonopole-2']\n",
      "['magudi-0.inp', 'magudi-1.inp', 'magudi-2.inp']\n",
      "['AcousticMonopole-0.forward_run.txt', 'AcousticMonopole-1.forward_run.txt', 'AcousticMonopole-2.forward_run.txt']\n",
      "['AcousticMonopole-0.command.sh', 'AcousticMonopole-1.command.sh', 'AcousticMonopole-2.command.sh']\n",
      "['AcousticMonopole-0.ic.q', 'AcousticMonopole-1.ic.q', 'AcousticMonopole-2.ic.q']\n",
      "['AcousticMonopole-0.diff.q', 'AcousticMonopole-1.diff.q', '']\n",
      "['AcousticMonopole-0.diff.txt', 'AcousticMonopole-1.diff.txt', '']\n",
      "['AcousticMonopole-0-00000016.q', 'AcousticMonopole-1-00000020.q', '']\n",
      "['AcousticMonopole-0-00000016.adjoint.q', 'AcousticMonopole-1-00000020.adjoint.q', '']\n",
      "['', 'AcousticMonopole-1-00000016.adjoint.q', 'AcousticMonopole-2-00000020.adjoint.q']\n",
      "['', 'AcousticMonopole-1.ic.adjoint.q', 'AcousticMonopole-2.ic.adjoint.q']\n",
      "['AcousticMonopole.inner_product_controlRegion.txt', 'AcousticMonopole-1.inner_product.txt', 'AcousticMonopole-2.inner_product.txt']\n",
      "['0', '1', '2']\n",
      "['AcousticMonopole.gradient_controlRegion.dat', 'AcousticMonopole-1.ic.adjoint.q', 'AcousticMonopole-2.ic.adjoint.q']\n"
     ]
    }
   ],
   "source": [
    "import numpy as np\n",
    "import subprocess\n",
    "\n",
    "from base import *\n",
    "\n",
    "print (prefixes)\n",
    "print (inputFiles)\n",
    "print (outputFiles)\n",
    "print (commandFiles)\n",
    "print (icFiles)\n",
    "print (diffFiles)\n",
    "print (diffOutputFiles)\n",
    "print (matchingForwardFiles)\n",
    "print (matchingAdjointFiles)\n",
    "print (icAdjointFiles)\n",
    "print (icGradientFiles)\n",
    "print (innerProductFiles)\n",
    "print (directories)\n",
    "\n",
    "print (globalGradFiles)"
   ]
  },
  {
   "cell_type": "code",
   "execution_count": 2,
   "metadata": {},
   "outputs": [
    {
     "name": "stdout",
     "output_type": "stream",
     "text": [
      "['AcousticMonopole.ic.0.baseline.q', 'AcousticMonopole.ic.1.baseline.q', 'AcousticMonopole.ic.2.baseline.q']\n",
      "./slice_control_forcing ./0/AcousticMonopole-0.control_forcing_controlRegion.dat ./AcousticMonopole.control_forcing_controlRegion.dat 14 0 6\n",
      "./slice_control_forcing ./1/AcousticMonopole-1.control_forcing_controlRegion.dat ./AcousticMonopole.control_forcing_controlRegion.dat 14 4 6\n",
      "./slice_control_forcing ./2/AcousticMonopole-2.control_forcing_controlRegion.dat ./AcousticMonopole.control_forcing_controlRegion.dat 14 8 6\n",
      "cp ./AcousticMonopole-0.ic.q ./0/AcousticMonopole-0.ic.q\n",
      "cp ./AcousticMonopole-1.ic.q ./1/AcousticMonopole-1.ic.q\n",
      "cp ./AcousticMonopole-2.ic.q ./2/AcousticMonopole-2.ic.q\n",
      "cd ./0 \n",
      "./forward --input magudi-0.inp \n",
      "cd .. \n",
      "cd ./1 \n",
      "./forward --input magudi-1.inp \n",
      "cd .. \n",
      "cd ./2 \n",
      "./forward --input magudi-2.inp \n",
      "cd .. \n",
      "./qfile_zaxpy ./AcousticMonopole-0.diff.q -1.0000000000000000E+00 ./1/AcousticMonopole-1.ic.q ./0/AcousticMonopole-0-00000016.q --input ./0/magudi-0.inp \n",
      "./qfile_zaxpy ./AcousticMonopole-1.diff.q -1.0000000000000000E+00 ./2/AcousticMonopole-2.ic.q ./1/AcousticMonopole-1-00000020.q --input ./1/magudi-1.inp \n",
      "./spatial_inner_product ./AcousticMonopole-0.diff.q ./AcousticMonopole-0.diff.q --output ./AcousticMonopole-0.diff.txt --input ./0/magudi-0.inp \n",
      "./spatial_inner_product ./AcousticMonopole-1.diff.q ./AcousticMonopole-1.diff.q --output ./AcousticMonopole-1.diff.txt --input ./1/magudi-1.inp \n",
      "\n"
     ]
    },
    {
     "data": {
      "text/plain": [
       "0"
      ]
     },
     "execution_count": 2,
     "metadata": {},
     "output_type": "execute_result"
    }
   ],
   "source": [
    "baseline_ic = []\n",
    "for k in range(Nsplit):\n",
    "    baseline_ic += ['%s.ic.%1d.baseline.q'%(globalPrefix,k)]\n",
    "print (baseline_ic)\n",
    "\n",
    "for k in range(Nsplit):\n",
    "    subprocess.check_call('cp %s %s'%(baseline_ic[k],icFiles[k]),shell=True)\n",
    "command = forwardRunCommand()\n",
    "print (command)\n",
    "subprocess.check_call(command, shell=True)"
   ]
  },
  {
   "cell_type": "code",
   "execution_count": 3,
   "metadata": {},
   "outputs": [
    {
     "name": "stdout",
     "output_type": "stream",
     "text": [
      "5.8981888336852293e-08\n",
      "[1.07935345e-08 1.18830620e-08 1.13426404e-08 1.29499030e-01\n",
      " 1.20127484e-01]\n"
     ]
    }
   ],
   "source": [
    "QoI0, subJ = QoI('.')\n",
    "print (QoI0)\n",
    "print (subJ)"
   ]
  },
  {
   "cell_type": "code",
   "execution_count": 4,
   "metadata": {},
   "outputs": [
    {
     "name": "stdout",
     "output_type": "stream",
     "text": [
      "cd ./0 \n",
      "function setOption() {\n",
      "    if grep -q \"$1\" magudi-0.inp\n",
      "    then\n",
      "    sed -i.bu \"s/^.*$1.*$/$1 = $2/g\" magudi-0.inp\n",
      "    else\n",
      "    echo \"$1 = $2\" >> magudi-0.inp\n",
      "    fi\n",
      "}\n",
      "setOption \"enable_adjoint_restart\" \"true\"\n",
      "setOption \"number_of_timesteps\" 2 \n",
      "setOption \"adjoint_restart\\/accumulated_timesteps\" 0 \n",
      "setOption \"adjoint_restart\\/intermediate_end_timestep\" 4 \n",
      "./adjoint --input magudi-0.inp \n",
      "cd .. \n",
      "\n",
      "cd ./1 \n",
      "function setOption() {\n",
      "    if grep -q \"$1\" magudi-1.inp\n",
      "    then\n",
      "    sed -i.bu \"s/^.*$1.*$/$1 = $2/g\" magudi-1.inp\n",
      "    else\n",
      "    echo \"$1 = $2\" >> magudi-1.inp\n",
      "    fi\n",
      "}\n",
      "setOption \"enable_adjoint_restart\" \"true\"\n",
      "setOption \"number_of_timesteps\" 2 \n",
      "setOption \"adjoint_restart\\/accumulated_timesteps\" 0 \n",
      "setOption \"adjoint_restart\\/intermediate_end_timestep\" 4 \n",
      "./adjoint --input magudi-1.inp \n",
      "cd .. \n",
      "\n",
      "cd ./2 \n",
      "function setOption() {\n",
      "    if grep -q \"$1\" magudi-2.inp\n",
      "    then\n",
      "    sed -i.bu \"s/^.*$1.*$/$1 = $2/g\" magudi-2.inp\n",
      "    else\n",
      "    echo \"$1 = $2\" >> magudi-2.inp\n",
      "    fi\n",
      "}\n",
      "setOption \"enable_adjoint_restart\" \"false\"\n",
      "setOption \"number_of_timesteps\" 6 \n",
      "./adjoint --input magudi-2.inp \n",
      "cd .. \n",
      "\n",
      "./qfile_zaxpy 0/AcousticMonopole-0-00000016.adjoint.q 9.9999999999999995E-08 ./AcousticMonopole-0.diff.q 0/AcousticMonopole-0-00000016.adjoint.q --input ./0/magudi-0.inp \n",
      "\n",
      "./qfile_zaxpy 1/AcousticMonopole-1-00000020.adjoint.q 9.9999999999999995E-08 ./AcousticMonopole-1.diff.q 1/AcousticMonopole-1-00000020.adjoint.q --input ./1/magudi-1.inp \n",
      "\n",
      "cd ./0 \n",
      "function setOption() {\n",
      "    if grep -q \"$1\" magudi-0.inp\n",
      "    then\n",
      "    sed -i.bu \"s/^.*$1.*$/$1 = $2/g\" magudi-0.inp\n",
      "    else\n",
      "    echo \"$1 = $2\" >> magudi-0.inp\n",
      "    fi\n",
      "}\n",
      "\n",
      "setOption \"number_of_timesteps\" 4 \n",
      "setOption \"adjoint_restart\\/accumulated_timesteps\" 2 \n",
      "setOption \"adjoint_restart\\/intermediate_end_timestep\" 0 \n",
      "./adjoint --input magudi-0.inp \n",
      "setOption \"number_of_timesteps\" 6 \n",
      "setOption \"enable_adjoint_restart\" \"false\"\n",
      "cd .. \n",
      "\n",
      "cd ./1 \n",
      "function setOption() {\n",
      "    if grep -q \"$1\" magudi-1.inp\n",
      "    then\n",
      "    sed -i.bu \"s/^.*$1.*$/$1 = $2/g\" magudi-1.inp\n",
      "    else\n",
      "    echo \"$1 = $2\" >> magudi-1.inp\n",
      "    fi\n",
      "}\n",
      "\n",
      "setOption \"number_of_timesteps\" 4 \n",
      "setOption \"adjoint_restart\\/accumulated_timesteps\" 2 \n",
      "setOption \"adjoint_restart\\/intermediate_end_timestep\" 0 \n",
      "./adjoint --input magudi-1.inp \n",
      "setOption \"number_of_timesteps\" 6 \n",
      "setOption \"enable_adjoint_restart\" \"false\"\n",
      "cd .. \n",
      "\n",
      "./qfile_zaxpy ./AcousticMonopole-1.ic.adjoint.q -9.9999999999999995E-08 ./AcousticMonopole-0.diff.q ./1/AcousticMonopole-1-00000016.adjoint.q --input ./1/magudi-1.inp \n",
      "\n",
      "./qfile_zaxpy ./AcousticMonopole-2.ic.adjoint.q -9.9999999999999995E-08 ./AcousticMonopole-1.diff.q ./2/AcousticMonopole-2-00000020.adjoint.q --input ./2/magudi-2.inp \n",
      "\n",
      "\n"
     ]
    },
    {
     "data": {
      "text/plain": [
       "0"
      ]
     },
     "execution_count": 4,
     "metadata": {},
     "output_type": "execute_result"
    }
   ],
   "source": [
    "command = adjointRunCommand()\n",
    "print(command)\n",
    "subprocess.check_call(command, shell=True)"
   ]
  },
  {
   "cell_type": "code",
   "execution_count": 5,
   "metadata": {},
   "outputs": [
    {
     "name": "stdout",
     "output_type": "stream",
     "text": [
      "./paste_control_forcing AcousticMonopole.gradient_controlRegion.dat 0/AcousticMonopole-0.gradient_controlRegion.dat 14 0 6\n",
      "./paste_control_forcing AcousticMonopole.gradient_controlRegion.dat 1/AcousticMonopole-1.gradient_controlRegion.dat 14 4 6\n",
      "./paste_control_forcing AcousticMonopole.gradient_controlRegion.dat 2/AcousticMonopole-2.gradient_controlRegion.dat 14 8 6\n",
      "\n"
     ]
    },
    {
     "data": {
      "text/plain": [
       "0"
      ]
     },
     "execution_count": 5,
     "metadata": {},
     "output_type": "execute_result"
    }
   ],
   "source": [
    "for k in range(NcontrolRegion):\n",
    "    from os import path\n",
    "    if (path.exists(globalGradFiles[k])):\n",
    "        subprocess.check_call('rm '+globalGradFiles[k], shell=True)\n",
    "\n",
    "command = gatherControlForcingGradientCommand()\n",
    "print (command)\n",
    "    \n",
    "subprocess.check_call(command, shell=True)"
   ]
  },
  {
   "cell_type": "code",
   "execution_count": 6,
   "metadata": {},
   "outputs": [
    {
     "name": "stdout",
     "output_type": "stream",
     "text": [
      "./zxdoty AcousticMonopole.gg_controlRegion.txt AcousticMonopole.gradient_controlRegion.dat AcousticMonopole.gradient_controlRegion.dat AcousticMonopole.norm_controlRegion.dat \n",
      "./spatial_inner_product AcousticMonopole-1.ic.adjoint.q AcousticMonopole-1.ic.adjoint.q --input 1/magudi-1.inp --output AcousticMonopole-1.gg.txt \n",
      "./spatial_inner_product AcousticMonopole-2.ic.adjoint.q AcousticMonopole-2.ic.adjoint.q --input 2/magudi-2.inp --output AcousticMonopole-2.gg.txt \n",
      "\n"
     ]
    },
    {
     "data": {
      "text/plain": [
       "0"
      ]
     },
     "execution_count": 6,
     "metadata": {},
     "output_type": "execute_result"
    }
   ],
   "source": [
    "command = innerProductCommand(globalGradFiles,globalGradFiles,ggFiles)\n",
    "print (command)\n",
    "\n",
    "subprocess.check_call(command, shell=True)"
   ]
  },
  {
   "cell_type": "code",
   "execution_count": 7,
   "metadata": {},
   "outputs": [
    {
     "name": "stdout",
     "output_type": "stream",
     "text": [
      "3.592012300844945e-14\n",
      "[1.28680324e-23 2.34591470e-14 1.24609760e-14]\n",
      "1.2868032354489759E-23\n"
     ]
    }
   ],
   "source": [
    "Grad, subGrad = readInnerProduct(ggFiles)\n",
    "print (Grad)\n",
    "print (subGrad)\n",
    "print ('{:.16E}'.format(subGrad[0]))"
   ]
  },
  {
   "cell_type": "code",
   "execution_count": 8,
   "metadata": {},
   "outputs": [],
   "source": [
    "Nk = 20\n",
    "Ak = 10.0**(12.0-0.25*np.array(range(Nk)))\n",
    "QoIk = np.zeros((Nk,),dtype=np.double)\n",
    "Gradk = np.zeros((Nk,),dtype=np.double)\n",
    "ek = np.zeros((Nk,),dtype=np.double)"
   ]
  },
  {
   "cell_type": "code",
   "execution_count": 9,
   "metadata": {},
   "outputs": [
    {
     "name": "stdout",
     "output_type": "stream",
     "text": [
      "['step/AcousticMonopole.control_forcing_controlRegion.dat', 'step/AcousticMonopole-1.ic.q', 'step/AcousticMonopole-2.ic.q']\n",
      "['AcousticMonopole.control_forcing_controlRegion.dat', 'AcousticMonopole-1.ic.q', 'AcousticMonopole-2.ic.q']\n"
     ]
    }
   ],
   "source": [
    "stepFiles = globalControlSpaceFiles.copy()\n",
    "for k, file in enumerate(stepFiles):\n",
    "    stepFiles[k] = 'step/' + file\n",
    "print (stepFiles)\n",
    "print (globalControlSpaceFiles)"
   ]
  },
  {
   "cell_type": "code",
   "execution_count": 10,
   "metadata": {},
   "outputs": [
    {
     "name": "stdout",
     "output_type": "stream",
     "text": [
      "Grad:  4.878815535007118e-23\n",
      "1.0000000000000000E+12 5.9030689243644949E-08 4.8800906792655356E-23 2.6136349063990210E-04\n",
      "5.6234132519034912E+11 5.9009327965145701E-08 4.8795326013287387E-23 1.4697549363683918E-04\n",
      "3.1622776601683795E+11 5.8997317781370994E-08 4.8792187710292862E-23 8.2650393169184062E-05\n",
      "1.7782794100389227E+11 5.8990564637299611E-08 4.8790422912941033E-23 4.6477733244547107E-05\n",
      "1.0000000000000000E+11 5.8986767279901706E-08 4.8789430494124132E-23 2.6136344852626695E-05\n",
      "5.6234132519034904E+10 5.8984631936769186E-08 4.8788872415945888E-23 1.4697540203420130E-05\n",
      "3.1622776601683792E+10 5.8983431166541277E-08 4.8788558589166292E-23 8.2651023023786279E-06\n",
      "1.7782794100389229E+10 5.8982755930605801E-08 4.8788382107446874E-23 4.6477956394770885E-06\n",
      "1.0000000000000000E+10 5.8982376219680873E-08 4.8788282857918925E-23 2.6135000766288164E-06\n",
      "5.6234132519034910E+09 5.8982162693214818E-08 4.8788227049134656E-23 1.4695998027109040E-06\n",
      "3.1622776601683793E+09 5.8982042618673512E-08 4.8788195660879777E-23 8.2624170371060898E-07\n",
      "1.7782794100389228E+09 5.8981975095864675E-08 4.8788177994697369E-23 4.6414188090524096E-07\n",
      "1.0000000000000000E+09 5.8981937125020456E-08 4.8788168163040424E-23 2.6262458896303265E-07\n",
      "5.6234132519034910E+08 5.8981915772452326E-08 4.8788162639991496E-23 1.4941987997494904E-07\n",
      "3.1622776601683795E+08 5.8981903765022970E-08 4.8788159466927409E-23 8.4382289099079280E-08\n",
      "1.7782794100389227E+08 5.8981897012749998E-08 4.8788158126875633E-23 5.6915545050421862E-08\n",
      "1.0000000000000000E+08 5.8981893215667969E-08 4.8788156761182858E-23 2.8923243121664532E-08\n",
      "5.6234132519034907E+07 5.8981891080411895E-08 4.8788155497018229E-23 3.0119410948539268E-09\n",
      "3.1622776601683792E+07 5.8981889879669212E-08 4.8788154758532823E-23 1.2124630497649380E-08\n",
      "1.7782794100389227E+07 5.8981889204442029E-08 4.8788156154606385E-23 1.6490379677830135E-08\n"
     ]
    }
   ],
   "source": [
    "baseFiles = globalControlSpaceFiles.copy()\n",
    "for k in range(NcontrolRegion):\n",
    "    baseFiles[k] = ''\n",
    "\n",
    "stepFiles = globalControlSpaceFiles.copy()\n",
    "for k, file in enumerate(stepFiles):\n",
    "    stepFiles[k] = 'step/' + file\n",
    "    \n",
    "from os import path\n",
    "if (path.exists(stepFiles[0])):\n",
    "    subprocess.check_call('rm '+stepFiles[0], shell=True)\n",
    "\n",
    "w2=initialConditionControllability\n",
    "Grad = subGrad[0] + np.sum(subGrad[1:]) * w2\n",
    "print ('Grad: ', Grad)\n",
    "    \n",
    "for k in range(Nk):\n",
    "#     command = zaxpyCommand(stepFiles,Ak[k],globalGradFiles,baseFiles)\n",
    "    command = zaxpyCommand(stepFiles,Ak[k],globalGradFiles,globalControlSpaceFiles)\n",
    "    subprocess.check_call(command, shell=True)\n",
    "    command = distributeCommand('step')\n",
    "    subprocess.check_call(command, shell=True)\n",
    "    command = forwardRunCommand('step')\n",
    "    subprocess.check_call(command, shell=True)\n",
    "    QoIk[k], subJ = QoI('step')\n",
    "    Gradk[k] = (QoIk[k]-QoI0)/Ak[k]\n",
    "    ek[k] = abs( (Gradk[k]-Grad)/Grad )\n",
    "    print (\"{:.16E}\".format(Ak[k]), \"{:.16E}\".format(QoIk[k]), \"{:.16E}\".format(Gradk[k]), \"{:.16E}\".format(ek[k]))"
   ]
  },
  {
   "cell_type": "code",
   "execution_count": 11,
   "metadata": {},
   "outputs": [
    {
     "data": {
      "text/plain": [
       "[<matplotlib.lines.Line2D at 0x10ef31780>]"
      ]
     },
     "execution_count": 11,
     "metadata": {},
     "output_type": "execute_result"
    },
    {
     "data": {
      "image/png": "[encoded data removed]",
      "text/plain": [
       "<Figure size 432x288 with 1 Axes>"
      ]
     },
     "metadata": {
      "needs_background": "light"
     },
     "output_type": "display_data"
    }
   ],
   "source": [
    "import matplotlib.pyplot as plt\n",
    "%matplotlib inline\n",
    "\n",
    "plt.figure(1)\n",
    "plt.loglog(Ak,ek,'ok')"
   ]
  },
  {
   "cell_type": "code",
   "execution_count": null,
   "metadata": {},
   "outputs": [],
   "source": []
  }
 ],
 "metadata": {
  "kernelspec": {
   "display_name": "Python 3",
   "language": "python",
   "name": "python3"
  },
  "language_info": {
   "codemirror_mode": {
    "name": "ipython",
    "version": 3
   },
   "file_extension": ".py",
   "mimetype": "text/x-python",
   "name": "python",
   "nbconvert_exporter": "python",
   "pygments_lexer": "ipython3",
   "version": "3.7.3"
  }
 },
 "nbformat": 4,
 "nbformat_minor": 2
}

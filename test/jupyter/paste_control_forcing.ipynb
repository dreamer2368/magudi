{
 "cells": [
  {
   "cell_type": "code",
   "execution_count": 1,
   "metadata": {},
   "outputs": [
    {
     "name": "stdout",
     "output_type": "stream",
     "text": [
      "10 4 5 7\n"
     ]
    }
   ],
   "source": [
    "import numpy as np\n",
    "import subprocess\n",
    "\n",
    "totalTimestep = 10\n",
    "startTimestep = np.random.randint(0,totalTimestep)\n",
    "duration = np.random.randint(1,totalTimestep-startTimestep+1)\n",
    "patchSize = np.random.randint(5,20)\n",
    "\n",
    "print (totalTimestep, startTimestep, duration, patchSize)"
   ]
  },
  {
   "cell_type": "code",
   "execution_count": 2,
   "metadata": {},
   "outputs": [
    {
     "name": "stdout",
     "output_type": "stream",
     "text": [
      "(280,)\n",
      "(140,)\n"
     ]
    }
   ],
   "source": [
    "globalSize = 4 * totalTimestep * patchSize\n",
    "sliceSize = 4 * duration * patchSize\n",
    "\n",
    "globalFile = np.random.rand(globalSize)\n",
    "# globalFile = np.zeros(globalSize)\n",
    "sliceFile = np.random.rand(sliceSize)\n",
    "\n",
    "print (np.shape(globalFile))\n",
    "print (np.shape(sliceFile))"
   ]
  },
  {
   "cell_type": "code",
   "execution_count": 3,
   "metadata": {},
   "outputs": [],
   "source": [
    "answer = np.copy(globalFile)\n",
    "answer[4*(totalTimestep-startTimestep-duration)*patchSize:4*(totalTimestep-startTimestep)*patchSize] += sliceFile"
   ]
  },
  {
   "cell_type": "code",
   "execution_count": 4,
   "metadata": {},
   "outputs": [
    {
     "name": "stdout",
     "output_type": "stream",
     "text": [
      "./paste_control_forcing globalFile.dat sliceFile.dat 10 4 5\n"
     ]
    }
   ],
   "source": [
    "globalFilename = 'globalFile.dat'\n",
    "sliceFilename = 'sliceFile.dat'\n",
    "subprocess.check_call('rm '+globalFilename+' '+sliceFilename, shell=True)\n",
    "\n",
    "f1 = open(globalFilename,'wb')\n",
    "globalFile.tofile(f1)\n",
    "f1.close()\n",
    "\n",
    "f1 = open(sliceFilename,'wb')\n",
    "sliceFile.tofile(f1)\n",
    "f1.close()\n",
    "\n",
    "# resultFile = 'resultFile.dat'\n",
    "command = './paste_control_forcing ' + globalFilename + \\\n",
    "          ' ' + sliceFilename + ' ' + str(int(totalTimestep)) + \\\n",
    "          ' ' + str(int(startTimestep)) + ' ' + str(int(duration))\n",
    "print (command)\n",
    "subprocess.check_call(command, shell=True)\n",
    "\n",
    "result = np.fromfile(globalFilename)"
   ]
  },
  {
   "cell_type": "code",
   "execution_count": 6,
   "metadata": {},
   "outputs": [
    {
     "data": {
      "text/plain": [
       "0.0"
      ]
     },
     "execution_count": 6,
     "metadata": {},
     "output_type": "execute_result"
    }
   ],
   "source": [
    "np.sum((answer-result)**2)"
   ]
  },
  {
   "cell_type": "code",
   "execution_count": 7,
   "metadata": {},
   "outputs": [],
   "source": [
    "answer = np.zeros(globalSize)\n",
    "answer[4*(totalTimestep-startTimestep-duration)*patchSize:4*(totalTimestep-startTimestep)*patchSize] += sliceFile"
   ]
  },
  {
   "cell_type": "code",
   "execution_count": null,
   "metadata": {},
   "outputs": [],
   "source": [
    "globalFilename = 'globalFile.dat'\n",
    "sliceFilename = 'sliceFile.dat'\n",
    "subprocess.check_call('rm '+globalFilename+' '+sliceFilename, shell=True)\n",
    "\n",
    "f1 = open(sliceFilename,'wb')\n",
    "sliceFile.tofile(f1)\n",
    "f1.close()\n",
    "\n",
    "# resultFile = 'resultFile.dat'\n",
    "command = './paste_control_forcing ' + globalFilename + \\\n",
    "          ' ' + sliceFilename + ' ' + str(int(totalTimestep)) + \\\n",
    "          ' ' + str(int(startTimestep)) + ' ' + str(int(duration))\n",
    "print (command)\n",
    "subprocess.check_call(command, shell=True)\n",
    "\n",
    "result = np.fromfile(globalFilename)"
   ]
  }
 ],
 "metadata": {
  "kernelspec": {
   "display_name": "Python 3",
   "language": "python",
   "name": "python3"
  },
  "language_info": {
   "codemirror_mode": {
    "name": "ipython",
    "version": 3
   },
   "file_extension": ".py",
   "mimetype": "text/x-python",
   "name": "python",
   "nbconvert_exporter": "python",
   "pygments_lexer": "ipython3",
   "version": "3.7.3"
  }
 },
 "nbformat": 4,
 "nbformat_minor": 2
}

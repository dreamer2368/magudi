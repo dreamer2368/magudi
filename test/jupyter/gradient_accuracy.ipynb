{
 "cells": [
  {
   "cell_type": "code",
   "execution_count": 15,
   "metadata": {},
   "outputs": [],
   "source": [
    "import numpy as np\n",
    "import subprocess\n",
    "\n",
    "prefix = 'AcousticMonopole'\n",
    "forwardFile = prefix+'.forward_run.txt'\n",
    "adjointFile = prefix+'.adjoint_run.txt'"
   ]
  },
  {
   "cell_type": "code",
   "execution_count": 16,
   "metadata": {},
   "outputs": [
    {
     "name": "stdout",
     "output_type": "stream",
     "text": [
      "QoI0:  0.00628940478932025\n"
     ]
    }
   ],
   "source": [
    "subprocess.check_call('./forward --output '+forwardFile, shell=True)\n",
    "fQoI0 = open(forwardFile,'r')\n",
    "QoI0 = float(fQoI0.read())\n",
    "fQoI0.close()\n",
    "print (\"QoI0: \", QoI0)"
   ]
  },
  {
   "cell_type": "code",
   "execution_count": 17,
   "metadata": {},
   "outputs": [
    {
     "name": "stdout",
     "output_type": "stream",
     "text": [
      "Grad0:  1.424686833913875e-14\n"
     ]
    }
   ],
   "source": [
    "subprocess.check_call('./adjoint --output '+adjointFile, shell=True)\n",
    "fGrad0 = open(adjointFile,'r')\n",
    "Grad0 = float(fGrad0.read())\n",
    "fGrad0.close()\n",
    "print (\"Grad0: \", Grad0)"
   ]
  },
  {
   "cell_type": "code",
   "execution_count": 7,
   "metadata": {},
   "outputs": [
    {
     "name": "stdout",
     "output_type": "stream",
     "text": [
      "ic_grad0:  2.789567294993506e-07\n"
     ]
    }
   ],
   "source": [
    "ic_grad_file = prefix + '-00000020.adjoint.q'\n",
    "grad_norm_file = prefix + '.spatial_inner_product.txt'\n",
    "subprocess.check_call('./spatial_inner_product '+ic_grad_file+' '+ic_grad_file, shell=True)\n",
    "fQoI0 = open(forwardFile,'r')\n",
    "Grad0 = float(fQoI0.read())\n",
    "fQoI0.close()\n",
    "print (\"ic_grad0: \", Grad0)"
   ]
  },
  {
   "cell_type": "code",
   "execution_count": 18,
   "metadata": {},
   "outputs": [],
   "source": [
    "Nk = 20\n",
    "# Ak = np.zeros((Nk,),dtype=np.double)\n",
    "Ak = 10.0**(6.0-0.25*np.array(range(Nk)))\n",
    "QoIk = np.zeros((Nk,),dtype=np.double)\n",
    "Gradk = np.zeros((Nk,),dtype=np.double)\n",
    "ek = np.zeros((Nk,),dtype=np.double)\n",
    "\n",
    "forwardFile = prefix+'.forward_run.txt'"
   ]
  },
  {
   "cell_type": "code",
   "execution_count": 19,
   "metadata": {},
   "outputs": [],
   "source": [
    "baseline_control_forcing_file = ['']\n",
    "grad_file = [prefix+'.gradient_controlRegion.dat']\n",
    "control_forcing_file = [prefix+'.control_forcing_controlRegion.dat']"
   ]
  },
  {
   "cell_type": "code",
   "execution_count": 20,
   "metadata": {},
   "outputs": [
    {
     "name": "stdout",
     "output_type": "stream",
     "text": [
      "1.0000000000000000E+06 6.2894190361991176E-03 1.4246878867613110E-14 7.3900271328715553E-07\n",
      "5.6234132519034913E+05 6.2894128009264062E-03 1.4246874269029406E-14 4.1622414931931318E-07\n",
      "3.1622776601683791E+05 6.2894092945766523E-03 1.4246871674380506E-14 2.3410350086123269E-07\n",
      "1.7782794100389228E+05 6.2894073228118470E-03 1.4246870220536174E-14 1.3205691087987161E-07\n",
      "1.0000000000000000E+05 6.2894062140071922E-03 1.4246869422043785E-14 7.6010040098190233E-08\n",
      "5.6234132519034909E+04 6.2894055904805686E-03 1.4246868987812362E-14 4.5530961281689631E-08\n",
      "3.1622776601683792E+04 6.2894052398457974E-03 1.4246868739543153E-14 2.8104730952166653E-08\n",
      "1.7782794100389227E+04 6.2894050426693833E-03 1.4246868737765991E-14 2.7979990442028170E-08\n",
      "1.0000000000000000E+04 6.2894049317889361E-03 1.4246868615397367E-14 1.9390830961280262E-08\n",
      "5.6234132519034911E+03 6.2894048694362801E-03 1.4246868679330056E-14 2.3878321671901861E-08\n",
      "3.1622776601683795E+03 6.2894048343728054E-03 1.4246868958970244E-14 4.3506508106440598E-08\n",
      "1.7782794100389228E+03 6.2894048146551664E-03 1.4246870493678048E-14 1.5122897501951209E-07\n",
      "1.0000000000000000E+03 6.2894048035671219E-03 1.4246871911371973E-14 2.5073813675724560E-07\n",
      "5.6234132519034904E+02 6.2894047973318526E-03 1.4246868062365451E-14 1.9426957104707058E-08\n",
      "3.1622776601683796E+02 6.2894047938255064E-03 1.4246871701808890E-14 2.3602872286708987E-07\n",
      "1.7782794100389228E+02 6.2894047918537442E-03 1.4246885126278523E-14 1.1783038470153392E-06\n",
      "1.0000000000000000E+02 6.2894047907449402E-03 1.4246902269032803E-14 2.3815685836190208E-06\n",
      "5.6234132519034908E+01 6.2894047901214129E-03 1.4246915877122563E-14 3.3367321631433494E-06\n",
      "3.1622776601683793E+01 6.2894047897707767E-03 1.4246907358711308E-14 2.7388175160844301E-06\n",
      "1.7782794100389228E+01 6.2894047895736011E-03 1.4246982676948354E-14 8.0254696598040594E-06\n"
     ]
    }
   ],
   "source": [
    "forwardFile1 = prefix+'.forward_run.1.txt'\n",
    "\n",
    "fId = open(prefix+'.gradient_accuracy.txt','w')\n",
    "for k in range(Nk):\n",
    "    i = 0\n",
    "    actuation_amount = Ak[k]\n",
    "    command = './zaxpy '+control_forcing_file[i]+' '+\"{:.16E}\".format(actuation_amount)+' '+grad_file[i]+' '+baseline_control_forcing_file[i]\n",
    "    subprocess.check_call(command, shell=True)\n",
    "    subprocess.check_call('./forward --output '+forwardFile1, shell=True)\n",
    "    fQoI1 = open(forwardFile1,'r')\n",
    "    QoIk[k] = float(fQoI1.read())\n",
    "    fQoI1.close()\n",
    "\n",
    "    Gradk[k] = (QoIk[k]-QoI0)/Ak[k]\n",
    "    ek[k] = abs( (Gradk[k]-Grad0)/Grad0 )\n",
    "    fId.write(\"{:.16E}\".format(actuation_amount)+'\\t'\n",
    "                +\"{:.16E}\".format(QoIk[k])+'\\t'\n",
    "                +\"{:.16E}\".format(Gradk[k])+'\\t'\n",
    "                +\"{:.16E}\".format(ek[k]))\n",
    "    print (\"{:.16E}\".format(actuation_amount), \"{:.16E}\".format(QoIk[k]), \"{:.16E}\".format(Gradk[k]), \"{:.16E}\".format(ek[k]))\n",
    "\n",
    "fId.close()"
   ]
  },
  {
   "cell_type": "code",
   "execution_count": 21,
   "metadata": {},
   "outputs": [
    {
     "data": {
      "text/plain": [
       "[<matplotlib.lines.Line2D at 0x11737f0f0>]"
      ]
     },
     "execution_count": 21,
     "metadata": {},
     "output_type": "execute_result"
    },
    {
     "data": {
      "image/png": "[encoded data removed]",
      "text/plain": [
       "<Figure size 432x288 with 1 Axes>"
      ]
     },
     "metadata": {
      "needs_background": "light"
     },
     "output_type": "display_data"
    }
   ],
   "source": [
    "import matplotlib.pyplot as plt\n",
    "%matplotlib inline\n",
    "\n",
    "plt.figure(1)\n",
    "plt.loglog(Ak,ek,'ok')"
   ]
  },
  {
   "cell_type": "code",
   "execution_count": null,
   "metadata": {},
   "outputs": [],
   "source": []
  }
 ],
 "metadata": {
  "kernelspec": {
   "display_name": "Python 3",
   "language": "python",
   "name": "python3"
  },
  "language_info": {
   "codemirror_mode": {
    "name": "ipython",
    "version": 3
   },
   "file_extension": ".py",
   "mimetype": "text/x-python",
   "name": "python",
   "nbconvert_exporter": "python",
   "pygments_lexer": "ipython3",
   "version": "3.7.3"
  }
 },
 "nbformat": 4,
 "nbformat_minor": 2
}

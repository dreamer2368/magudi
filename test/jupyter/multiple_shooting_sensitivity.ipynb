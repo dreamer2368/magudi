{
 "cells": [
  {
   "cell_type": "code",
   "execution_count": 1,
   "metadata": {},
   "outputs": [
    {
     "name": "stdout",
     "output_type": "stream",
     "text": [
      "['AcousticMonopole-0', 'AcousticMonopole-1', 'AcousticMonopole-2']\n",
      "['magudi-0.inp', 'magudi-1.inp', 'magudi-2.inp']\n",
      "['AcousticMonopole-0.forward_run.txt', 'AcousticMonopole-1.forward_run.txt', 'AcousticMonopole-2.forward_run.txt']\n"
     ]
    }
   ],
   "source": [
    "import numpy as np\n",
    "import subprocess\n",
    "\n",
    "Nsplit = 3                                               # number of split time segments\n",
    "Nts = 6                                                  # number of timesteps of each time segment\n",
    "NtimestepOffset = 4                                      # timestep offset between time segments\n",
    "startTimestep = 0                                        # initial timestep of the first time segment\n",
    "totalTimestep = (Nsplit-1) * NtimestepOffset + Nts       # number of timesteps for the entire time span\n",
    "\n",
    "globalPrefix = 'AcousticMonopole'\n",
    "prefixes, inputFiles, outputFiles = [], [], []\n",
    "for k in range(Nsplit):\n",
    "    prefixes += ['%s-%01d'%(globalPrefix,k)]\n",
    "    inputFiles += ['magudi-%01d.inp'%(k)]\n",
    "    outputFiles += ['%s-%01d.forward_run.txt'%(globalPrefix,k)]\n",
    "print (prefixes)\n",
    "print (inputFiles)\n",
    "print (outputFiles)"
   ]
  },
  {
   "cell_type": "code",
   "execution_count": 2,
   "metadata": {},
   "outputs": [
    {
     "name": "stdout",
     "output_type": "stream",
     "text": [
      "['AcousticMonopole.ic.0.baseline.q', 'AcousticMonopole.ic.1.baseline.q', 'AcousticMonopole.ic.2.baseline.q']\n",
      "['AcousticMonopole-0.ic.q', 'AcousticMonopole-1.ic.q', 'AcousticMonopole-2.ic.q']\n"
     ]
    }
   ],
   "source": [
    "baseline_ic = []\n",
    "icFiles = []\n",
    "for k in range(Nsplit):\n",
    "    baseline_ic += ['%s.ic.%1d.baseline.q'%(globalPrefix,k)]\n",
    "    icFiles += [prefixes[k]+'.ic.q']\n",
    "print (baseline_ic)\n",
    "print (icFiles)\n",
    "    \n",
    "for k in range(Nsplit):\n",
    "    subprocess.check_call('cp '+baseline_ic[k]+' '+icFiles[k], shell=True)\n",
    "    subprocess.check_call('./forward --input '+inputFiles[k], shell=True)"
   ]
  },
  {
   "cell_type": "code",
   "execution_count": 3,
   "metadata": {},
   "outputs": [],
   "source": [
    "w1 = 1.0e-7\n",
    "\n",
    "def QoI(Nsplit_,NtimestepOffset_,outputFiles_):\n",
    "    \n",
    "    J = 0.0\n",
    "    for k in range(Nsplit):\n",
    "        fID = open(outputFiles_[k],'r')\n",
    "        J += float(fID.read())\n",
    "        fID.close()\n",
    "        \n",
    "    for k in range(Nsplit_-1):\n",
    "        kOffset = startTimestep + NtimestepOffset_ * (k+1)\n",
    "        matchingFile = '%s-%08d.q'%(prefixes[k],kOffset)\n",
    "        diffFile = '%s.diff.q'%(prefixes[k])\n",
    "        command = './qfile_zaxpy ' + diffFile + ' ' + \\\n",
    "                  \"{:.16E}\".format(-1.0) + ' ' + prefixes[k+1]+'.ic.q' + \\\n",
    "                  ' ' + matchingFile + ' --input ' + inputFiles[k]\n",
    "        subprocess.check_call(command, shell=True)\n",
    "        \n",
    "        diffOutputFile = '%s.diff.txt'%(prefixes[k])\n",
    "        subprocess.check_call('./spatial_inner_product '+diffFile+' '+diffFile + \\\n",
    "                              ' --output ' + diffOutputFile + \\\n",
    "                              ' --input ' + inputFiles[k], shell=True)\n",
    "        fID = open(diffOutputFile,'r')\n",
    "        J += 0.5 * w1 * float(fID.read())\n",
    "        fID.close()\n",
    "    \n",
    "    return J"
   ]
  },
  {
   "cell_type": "code",
   "execution_count": 4,
   "metadata": {},
   "outputs": [
    {
     "name": "stdout",
     "output_type": "stream",
     "text": [
      "6.040377623630168e-08\n"
     ]
    }
   ],
   "source": [
    "QoI0 = QoI(Nsplit,NtimestepOffset,outputFiles)\n",
    "print (QoI0)"
   ]
  },
  {
   "cell_type": "code",
   "execution_count": 5,
   "metadata": {},
   "outputs": [],
   "source": [
    "from base import setOptionCommand\n",
    "\n",
    "for k in range(Nsplit-1):\n",
    "    commandFile = prefixes[k]+'.sh'\n",
    "    fID = open(commandFile,'w')\n",
    "    fID.write(setOptionCommand(inputFiles[k]))\n",
    "    fID.write('setOption \"enable_adjoint_restart\" \"true\"\\n')\n",
    "    fID.write('setOption \"number_of_timesteps\" '+str(Nts-NtimestepOffset)+'\\n')\n",
    "    fID.write('setOption \"adjoint_restart\\/accumulated_timesteps\" '+str(int(0))+'\\n')\n",
    "    fID.write('setOption \"adjoint_restart\\/intermediate_end_timestep\" '+str(NtimestepOffset)+'\\n')\n",
    "    fID.write('./adjoint --input ' + inputFiles[k] + '\\n')\n",
    "    \n",
    "    kOffset = startTimestep + NtimestepOffset * (k+1)\n",
    "    matchingAdjointFile = '%s-%08d.adjoint.q'%(prefixes[k],kOffset)\n",
    "    diffFile = '%s.diff.q'%(prefixes[k])\n",
    "    fID.write('./qfile_zaxpy ' + matchingAdjointFile + ' ' +       \\\n",
    "              \"{:.16E}\".format(w1) + ' ' + diffFile +              \\\n",
    "              ' ' + matchingAdjointFile + ' --input ' + inputFiles[k] + '\\n')\n",
    "    \n",
    "    fID.write('setOption \"number_of_timesteps\" '+str(NtimestepOffset)+'\\n')\n",
    "    fID.write('setOption \"adjoint_restart\\/accumulated_timesteps\" '+str(Nts-NtimestepOffset)+'\\n')\n",
    "    fID.write('setOption \"adjoint_restart\\/intermediate_end_timestep\" '+str(int(0))+'\\n')\n",
    "    fID.write('./adjoint --input ' + inputFiles[k] + '\\n')\n",
    "    \n",
    "    fID.write('setOption \"number_of_timesteps\" '+str(Nts)+'\\n')\n",
    "    fID.close()\n",
    "\n",
    "k = Nsplit - 1\n",
    "commandFile = prefixes[k]+'.sh'\n",
    "fID = open(commandFile,'w')\n",
    "fID.write(setOptionCommand(inputFiles[k]))\n",
    "fID.write('setOption \"enable_adjoint_restart\" \"false\"\\n')\n",
    "fID.write('setOption \"number_of_timesteps\" '+str(Nts)+'\\n')\n",
    "fID.write('./adjoint --input ' + inputFiles[k] + '\\n')\n",
    "fID.close()\n",
    "\n",
    "for k in range(Nsplit):\n",
    "    commandFile = prefixes[k]+'.sh'\n",
    "    subprocess.check_call('sh '+commandFile, shell=True)"
   ]
  },
  {
   "cell_type": "code",
   "execution_count": 6,
   "metadata": {},
   "outputs": [
    {
     "name": "stdout",
     "output_type": "stream",
     "text": [
      "control forcing gradient:  1.344791970471636e-23\n"
     ]
    }
   ],
   "source": [
    "globalGradFile = globalPrefix + '.gradient_controlRegion.dat'\n",
    "from os import path\n",
    "if (path.exists(globalGradFile)):\n",
    "    subprocess.check_call('rm '+globalGradFile, shell=True)\n",
    "\n",
    "for k in range(Nsplit):\n",
    "    kOffset = startTimestep + NtimestepOffset * k\n",
    "    sliceGradFile = prefixes[k] + '.gradient_controlRegion.dat'\n",
    "    command = './paste_control_forcing ' + globalGradFile + ' ' + sliceGradFile + ' ' + \\\n",
    "              str(int(totalTimestep)) + ' ' + str(int(kOffset)) + ' ' + str(int(Nts))\n",
    "    subprocess.check_call(command, shell=True)\n",
    "    \n",
    "globalControlSpaceNorm = globalPrefix + '.norm_controlRegion.dat'\n",
    "globalSensitivityFile = globalPrefix + '.adjoint_run.txt'\n",
    "command = './zxdoty ' + globalSensitivityFile + ' ' +                                \\\n",
    "        globalGradFile + ' ' + globalGradFile + ' ' + globalControlSpaceNorm\n",
    "subprocess.check_call(command, shell=True)\n",
    "\n",
    "fID = open(globalSensitivityFile,'r')\n",
    "Grad0 = float(fID.read())\n",
    "fID.close()\n",
    "print ('control forcing gradient: ', Grad0)"
   ]
  },
  {
   "cell_type": "code",
   "execution_count": 7,
   "metadata": {},
   "outputs": [
    {
     "name": "stdout",
     "output_type": "stream",
     "text": [
      "ic_grad0:  [0.00000000e+00 2.27163206e-14 1.24906943e-14]\n"
     ]
    }
   ],
   "source": [
    "icGrad0 = np.zeros(Nsplit)\n",
    "icGradFiles = ['']\n",
    "for k in range(1,Nsplit):\n",
    "    kOffset = startTimestep + NtimestepOffset * k\n",
    "    adjointFile = '%s-%08d.adjoint.q' % (prefixes[k],kOffset)\n",
    "    diffFile = '%s.diff.q'%(prefixes[k-1])\n",
    "    icGradFiles += ['%s.ic.adjoint.q' % (prefixes[k])]\n",
    "    command = './qfile_zaxpy ' + icGradFiles[k] + ' ' +                     \\\n",
    "              \"{:.16E}\".format(-w1) + ' ' + diffFile +                  \\\n",
    "              ' ' + adjointFile + ' --input ' + inputFiles[k]\n",
    "    subprocess.check_call(command, shell=True)\n",
    "    \n",
    "    gradNormFile = prefixes[k] + '.spatial_inner_product.txt'\n",
    "    command = './spatial_inner_product '+icGradFiles[k]+' '+icGradFiles[k] +   \\\n",
    "                ' --input ' + inputFiles[k] + ' --output ' + gradNormFile\n",
    "    subprocess.check_call(command, shell=True)\n",
    "    fID = open(gradNormFile,'r')\n",
    "    icGrad0[k] = float(fID.read())\n",
    "    fID.close()\n",
    "print (\"ic_grad0: \", icGrad0)"
   ]
  },
  {
   "cell_type": "code",
   "execution_count": 8,
   "metadata": {},
   "outputs": [],
   "source": [
    "sliceControlForcingFiles = []\n",
    "for k in range(Nsplit):\n",
    "    sliceControlForcingFiles += ['%s.control_forcing_controlRegion.dat'%prefixes[k]]"
   ]
  },
  {
   "cell_type": "code",
   "execution_count": null,
   "metadata": {},
   "outputs": [],
   "source": [
    "Nk = 20\n",
    "Ak = 10.0**(12.0-0.25*np.array(range(Nk)))\n",
    "QoIk = np.zeros((Nk,),dtype=np.double)\n",
    "Gradk = np.zeros((Nk,),dtype=np.double)\n",
    "ek = np.zeros((Nk,),dtype=np.double)"
   ]
  },
  {
   "cell_type": "code",
   "execution_count": null,
   "metadata": {},
   "outputs": [
    {
     "name": "stdout",
     "output_type": "stream",
     "text": [
      "Grad:  1.3447919708237063e-23\n"
     ]
    }
   ],
   "source": [
    "globalControlForcingFile = globalPrefix + '.control_forcing_controlRegion.dat'\n",
    "from os import path\n",
    "if (path.exists(globalControlForcingFile)):\n",
    "    subprocess.check_call('rm '+globalControlForcingFile, shell=True)\n",
    "\n",
    "outputFiles = []\n",
    "for k in range(Nsplit):\n",
    "    outputFiles += ['%s-%01d.forward_run.1.txt'%(globalPrefix,k)]\n",
    "\n",
    "w2 = 1.0e-19\n",
    "Grad = Grad0 + np.sum(icGrad0) * w2\n",
    "print ('Grad: ', Grad)\n",
    "    \n",
    "for k in range(Nk):\n",
    "    command = './zaxpy '+globalControlForcingFile+' '+\"{:.16E}\".format(Ak[k])+' '+globalGradFile\n",
    "    subprocess.check_call(command, shell=True)\n",
    "    for j in range(1,Nsplit):\n",
    "        command = './qfile_zaxpy ' + icFiles[j] + ' ' +                                \\\n",
    "                  \"{:.16E}\".format(Ak[k]*w2) + ' ' + icGradFiles[j] +                  \\\n",
    "                  ' ' + baseline_ic[j] + ' --input ' + inputFiles[j]\n",
    "        subprocess.check_call(command, shell=True)\n",
    "    for j in range(Nsplit):\n",
    "        jOffset = startTimestep + NtimestepOffset * j\n",
    "        command = './slice_control_forcing ' + sliceControlForcingFiles[j] + ' ' + globalControlForcingFile + ' ' + \\\n",
    "                    str(int(totalTimestep)) + ' ' + str(int(jOffset)) + ' ' + str(int(Nts))\n",
    "        subprocess.check_call(command, shell=True)\n",
    "        \n",
    "        commandFile = prefixes[j]+'.sh'\n",
    "        fID = open(commandFile,'w')\n",
    "        fID.write(setOptionCommand(inputFiles[j]))\n",
    "        fID.write('setOption \"controller_switch\" \"true\"\\n')\n",
    "        fID.write('./forward --input ' + inputFiles[j] + ' --output ' + outputFiles[j] + '\\n')\n",
    "        fID.write('setOption \"controller_switch\" \"false\"\\n')\n",
    "        fID.close()\n",
    "        subprocess.check_call('sh '+commandFile, shell=True)\n",
    "    QoIk[k] = QoI(Nsplit,NtimestepOffset,outputFiles)\n",
    "    Gradk[k] = (QoIk[k]-QoI0)/Ak[k]\n",
    "    ek[k] = abs( (Gradk[k]-Grad)/Grad )\n",
    "    print (\"{:.16E}\".format(Ak[k]), \"{:.16E}\".format(QoIk[k]), \"{:.16E}\".format(Gradk[k]), \"{:.16E}\".format(ek[k]))"
   ]
  },
  {
   "cell_type": "code",
   "execution_count": null,
   "metadata": {},
   "outputs": [],
   "source": [
    "import matplotlib.pyplot as plt\n",
    "%matplotlib inline\n",
    "\n",
    "plt.figure(1)\n",
    "plt.loglog(Ak,ek,'ok')"
   ]
  },
  {
   "cell_type": "code",
   "execution_count": null,
   "metadata": {},
   "outputs": [],
   "source": []
  }
 ],
 "metadata": {
  "kernelspec": {
   "display_name": "Python 3",
   "language": "python",
   "name": "python3"
  },
  "language_info": {
   "codemirror_mode": {
    "name": "ipython",
    "version": 3
   },
   "file_extension": ".py",
   "mimetype": "text/x-python",
   "name": "python",
   "nbconvert_exporter": "python",
   "pygments_lexer": "ipython3",
   "version": "3.7.3"
  }
 },
 "nbformat": 4,
 "nbformat_minor": 2
}

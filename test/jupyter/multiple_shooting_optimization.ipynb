{
 "cells": [
  {
   "cell_type": "code",
   "execution_count": 1,
   "metadata": {},
   "outputs": [
    {
     "name": "stdout",
     "output_type": "stream",
     "text": [
      "['AcousticMonopole-0', 'AcousticMonopole-1', 'AcousticMonopole-2']\n",
      "['magudi-0.inp', 'magudi-1.inp', 'magudi-2.inp']\n",
      "['AcousticMonopole-0.forward_run.txt', 'AcousticMonopole-1.forward_run.txt', 'AcousticMonopole-2.forward_run.txt']\n",
      "['AcousticMonopole-0.command.sh', 'AcousticMonopole-1.command.sh', 'AcousticMonopole-2.command.sh']\n",
      "['AcousticMonopole-0.ic.q', 'AcousticMonopole-1.ic.q', 'AcousticMonopole-2.ic.q']\n",
      "['AcousticMonopole-0.diff.q', 'AcousticMonopole-1.diff.q', '']\n",
      "['AcousticMonopole-0.diff.txt', 'AcousticMonopole-1.diff.txt', '']\n",
      "['AcousticMonopole-0-00000016.q', 'AcousticMonopole-1-00000020.q', '']\n",
      "['AcousticMonopole-0-00000016.adjoint.q', 'AcousticMonopole-1-00000020.adjoint.q', '']\n",
      "['', 'AcousticMonopole-1-00000016.adjoint.q', 'AcousticMonopole-2-00000020.adjoint.q']\n",
      "['', 'AcousticMonopole-1.ic.adjoint.q', 'AcousticMonopole-2.ic.adjoint.q']\n",
      "['AcousticMonopole.inner_product_controlRegion.txt', 'AcousticMonopole-1.inner_product.txt', 'AcousticMonopole-2.inner_product.txt']\n",
      "['0', '1', '2']\n",
      "['AcousticMonopole.gradient_controlRegion.dat', 'AcousticMonopole-1.ic.adjoint.q', 'AcousticMonopole-2.ic.adjoint.q']\n",
      "['AcousticMonopole.ic.0.baseline.q', 'AcousticMonopole.ic.1.baseline.q', 'AcousticMonopole.ic.2.baseline.q']\n"
     ]
    }
   ],
   "source": [
    "import numpy as np\n",
    "import subprocess\n",
    "\n",
    "from base import *\n",
    "\n",
    "print (prefixes)\n",
    "print (inputFiles)\n",
    "print (outputFiles)\n",
    "print (commandFiles)\n",
    "print (icFiles)\n",
    "print (diffFiles)\n",
    "print (diffOutputFiles)\n",
    "print (matchingForwardFiles)\n",
    "print (matchingAdjointFiles)\n",
    "print (icAdjointFiles)\n",
    "print (icGradientFiles)\n",
    "print (innerProductFiles)\n",
    "print (directories)\n",
    "\n",
    "print (globalGradFiles)\n",
    "\n",
    "baseline_ic = []\n",
    "for k in range(Nsplit):\n",
    "    baseline_ic += ['%s.ic.%1d.baseline.q'%(globalPrefix,k)]\n",
    "print (baseline_ic)"
   ]
  },
  {
   "cell_type": "code",
   "execution_count": 4,
   "metadata": {},
   "outputs": [
    {
     "data": {
      "text/plain": [
       "0"
      ]
     },
     "execution_count": 4,
     "metadata": {},
     "output_type": "execute_result"
    }
   ],
   "source": [
    "for k in range(Nsplit):\n",
    "    subprocess.check_call('cp '+baseline_ic[k]+' '+icFiles[k], shell=True)\n",
    "    subprocess.check_call('cp '+globalPrefix+'.xyz'+' '+directories[k], shell=True)\n",
    "\n",
    "from base import *\n",
    "command = forwardRunCommand()\n",
    "subprocess.check_call(command, shell=True)"
   ]
  },
  {
   "cell_type": "code",
   "execution_count": 5,
   "metadata": {},
   "outputs": [
    {
     "name": "stdout",
     "output_type": "stream",
     "text": [
      "5.8981888378643225e-08\n",
      "[[5.8981888378643225e-08, 1.079353447573579e-08, 1.188306205367947e-08, 1.134264038762561e-08, 0.12949903038904714, 0.1201274842269764]]\n"
     ]
    }
   ],
   "source": [
    "QoI0, subJ = QoI('.')\n",
    "print (QoI0)\n",
    "print ([[QoI0] + list(subJ)])"
   ]
  },
  {
   "cell_type": "code",
   "execution_count": 6,
   "metadata": {},
   "outputs": [
    {
     "data": {
      "text/plain": [
       "0"
      ]
     },
     "execution_count": 6,
     "metadata": {},
     "output_type": "execute_result"
    }
   ],
   "source": [
    "command = adjointRunCommand()\n",
    "\n",
    "subprocess.check_call(command, shell=True)"
   ]
  },
  {
   "cell_type": "code",
   "execution_count": 7,
   "metadata": {},
   "outputs": [
    {
     "data": {
      "text/plain": [
       "0"
      ]
     },
     "execution_count": 7,
     "metadata": {},
     "output_type": "execute_result"
    }
   ],
   "source": [
    "for k in range(NcontrolRegion):\n",
    "    from os import path\n",
    "    if (path.exists(globalGradFiles[k])):\n",
    "        subprocess.check_call('rm '+globalGradFiles[k], shell=True)\n",
    "\n",
    "command = gatherControlForcingGradientCommand()\n",
    "    \n",
    "subprocess.check_call(command, shell=True)"
   ]
  },
  {
   "cell_type": "code",
   "execution_count": 8,
   "metadata": {},
   "outputs": [
    {
     "data": {
      "text/plain": [
       "0"
      ]
     },
     "execution_count": 8,
     "metadata": {},
     "output_type": "execute_result"
    }
   ],
   "source": [
    "command = innerProductCommand(globalGradFiles,globalGradFiles,ggFiles)\n",
    "\n",
    "subprocess.check_call(command, shell=True)"
   ]
  },
  {
   "cell_type": "code",
   "execution_count": 9,
   "metadata": {},
   "outputs": [
    {
     "name": "stdout",
     "output_type": "stream",
     "text": [
      "Initial line minimization is ready. Run mnbrak and linmin procedures.\n"
     ]
    },
    {
     "data": {
      "text/plain": [
       "0"
      ]
     },
     "execution_count": 9,
     "metadata": {},
     "output_type": "execute_result"
    }
   ],
   "source": [
    "from frprmn import beforeLinmin\n",
    "success = beforeLinmin(True,True)\n",
    "\n",
    "subprocess.check_call('sh '+globalCommandFile, shell=True)"
   ]
  },
  {
   "cell_type": "code",
   "execution_count": 10,
   "metadata": {},
   "outputs": [
    {
     "name": "stdout",
     "output_type": "stream",
     "text": [
      "Initial steps written in command. Run AcousticMonopole.command.sh.\n"
     ]
    },
    {
     "data": {
      "text/plain": [
       "0"
      ]
     },
     "execution_count": 10,
     "metadata": {},
     "output_type": "execute_result"
    }
   ],
   "source": [
    "from mnbrak import setupInitialSteps\n",
    "\n",
    "success = setupInitialSteps(True)\n",
    "subprocess.check_call('sh '+globalCommandFile, shell=True)"
   ]
  },
  {
   "cell_type": "code",
   "execution_count": 11,
   "metadata": {},
   "outputs": [
    {
     "name": "stdout",
     "output_type": "stream",
     "text": [
      "           step           QoI directory index\n",
      "0  0.000000e+00  5.898189e-08               a\n",
      "1  1.000000e+09  1.786016e-03               c\n",
      "2  6.180340e+08           NaN               x\n",
      "MNBRAK: narrowing the bracket - Run intermediate forward simulations.\n",
      "           step           QoI directory index\n",
      "0  0.000000e+00  5.898189e-08               a\n",
      "1  6.180340e+08  6.798409e-04               c\n",
      "3  3.819660e+08           NaN               x\n",
      "MNBRAK: narrowing the bracket - Run intermediate forward simulations.\n",
      "           step           QoI directory index\n",
      "0  0.000000e+00  5.898189e-08               a\n",
      "1  3.819660e+08  2.582365e-04               c\n",
      "4  2.360680e+08           NaN               x\n",
      "MNBRAK: narrowing the bracket - Run intermediate forward simulations.\n",
      "           step           QoI directory index\n",
      "0  0.000000e+00  5.898189e-08               a\n",
      "1  2.360680e+08  9.774897e-05               c\n",
      "5  1.458980e+08           NaN               x\n",
      "MNBRAK: narrowing the bracket - Run intermediate forward simulations.\n",
      "           step           QoI directory index\n",
      "0  0.000000e+00  5.898189e-08               a\n",
      "1  1.458980e+08  1.637963e-04               c\n",
      "6  9.016994e+07           NaN               x\n",
      "MNBRAK: narrowing the bracket - Run intermediate forward simulations.\n",
      "           step           QoI directory index\n",
      "0  0.000000e+00  5.898189e-08               a\n",
      "1  9.016994e+07  6.136171e-05               c\n",
      "7  5.572809e+07           NaN               x\n",
      "MNBRAK: narrowing the bracket - Run intermediate forward simulations.\n",
      "           step           QoI directory index\n",
      "0  0.000000e+00  5.898189e-08               a\n",
      "1  5.572809e+07  2.270973e-05               c\n",
      "8  3.444185e+07           NaN               x\n",
      "MNBRAK: narrowing the bracket - Run intermediate forward simulations.\n",
      "           step           QoI directory index\n",
      "0  0.000000e+00  5.898189e-08               a\n",
      "1  3.444185e+07  8.238241e-06               c\n",
      "9  2.128624e+07           NaN               x\n",
      "MNBRAK: narrowing the bracket - Run intermediate forward simulations.\n",
      "            step           QoI directory index\n",
      "0   0.000000e+00  5.898189e-08               a\n",
      "1   2.128624e+07  2.891133e-06               c\n",
      "10  1.315562e+07           NaN               x\n",
      "MNBRAK: narrowing the bracket - Run intermediate forward simulations.\n",
      "            step           QoI directory index\n",
      "0   0.000000e+00  5.898189e-08               a\n",
      "1   1.315562e+07  9.602705e-07               c\n",
      "11  8.130618e+06           NaN               x\n",
      "MNBRAK: narrowing the bracket - Run intermediate forward simulations.\n",
      "            step           QoI directory index\n",
      "0   0.000000e+00  5.898189e-08               a\n",
      "1   8.130618e+06  2.916899e-07               c\n",
      "12  5.024998e+06           NaN               x\n",
      "MNBRAK: narrowing the bracket - Run intermediate forward simulations.\n",
      "            step           QoI directory index\n",
      "0   0.000000e+00  5.898189e-08               a\n",
      "1   5.024998e+06  7.892426e-08               c\n",
      "13  3.105620e+06           NaN               x\n",
      "MNBRAK: narrowing the bracket - Run intermediate forward simulations.\n",
      "[[0.0 5.8981888378643225e-08 'a']\n",
      " [3105619.756023321 2.398930734601165e-08 'b']\n",
      " [5024998.356317437 7.892426266690923e-08 'c']]\n",
      "MNBRAK: initial mininum bracket is prepared.\n"
     ]
    }
   ],
   "source": [
    "from mnbrak import NextMnbrak\n",
    "\n",
    "continueFlag = True\n",
    "while(continueFlag):\n",
    "    continueFlag = NextMnbrak(True)\n",
    "    subprocess.check_call('sh '+globalCommandFile, shell=True)"
   ]
  },
  {
   "cell_type": "code",
   "execution_count": 12,
   "metadata": {},
   "outputs": [
    {
     "name": "stdout",
     "output_type": "stream",
     "text": [
      "            step           QoI directory index\n",
      "0   0.000000e+00  5.898189e-08               a\n",
      "1   3.105620e+06  2.398931e-08               b\n",
      "2   5.024998e+06  7.892426e-08               c\n",
      "14  2.262524e+06           NaN               x\n",
      "LINMIN: next linmin evaluation is prepared-\n",
      "            step           QoI directory index\n",
      "0   0.000000e+00  5.898189e-08               a\n",
      "1   2.262524e+06  1.834684e-08               b\n",
      "2   3.105620e+06  2.398931e-08               c\n",
      "15  2.262524e+06           NaN               x\n",
      "LINMIN: next linmin evaluation is prepared-\n",
      "            step           QoI directory index\n",
      "0   0.000000e+00  5.898189e-08               a\n",
      "1   2.262524e+06  1.834684e-08               b\n",
      "2   2.262524e+06  1.834684e-08               c\n",
      "16  1.398316e+06           NaN               x\n",
      "LINMIN: next linmin evaluation is prepared-\n",
      "            step           QoI directory index\n",
      "1   1.398316e+06  2.427541e-08               a\n",
      "2   2.262524e+06  1.834684e-08               b\n",
      "3   2.262524e+06  1.834684e-08               c\n",
      "17  1.932426e+06           NaN               x\n",
      "LINMIN: next linmin evaluation is prepared-\n",
      "            step           QoI directory index\n",
      "2   1.932426e+06  1.921181e-08               a\n",
      "3   2.262524e+06  1.834684e-08               b\n",
      "4   2.262524e+06  1.834684e-08               c\n",
      "18  2.136437e+06           NaN               x\n",
      "LINMIN: next linmin evaluation is prepared-\n",
      "            step           QoI directory index\n",
      "3   2.136437e+06  1.847304e-08               a\n",
      "4   2.262524e+06  1.834684e-08               b\n",
      "5   2.262524e+06  1.834684e-08               c\n",
      "19  2.214363e+06           NaN               x\n",
      "LINMIN: next linmin evaluation is prepared-\n",
      "            step           QoI directory index\n",
      "4   2.214363e+06  1.836526e-08               a\n",
      "5   2.262524e+06  1.834684e-08               b\n",
      "6   2.262524e+06  1.834684e-08               c\n",
      "20  2.244128e+06           NaN               x\n",
      "LINMIN: next linmin evaluation is prepared-\n",
      "steps: 2.2441278506066171E+06 2.2625235682003973E+06 2.2625240837735520E+06\n",
      "QoIs: 1.8349529890957430E-08 1.8346843708486648E-08 1.8346843708490920E-08\n",
      "LINMIN: line minimization is finished.\n"
     ]
    }
   ],
   "source": [
    "from linmin import *\n",
    "\n",
    "initial = True\n",
    "continueFlag = True\n",
    "while (continueFlag):\n",
    "    continueFlag = nextLinmin(True,initial,False)\n",
    "    initial = False\n",
    "    subprocess.check_call('sh '+globalCommandFile, shell=True)"
   ]
  },
  {
   "cell_type": "code",
   "execution_count": 13,
   "metadata": {},
   "outputs": [
    {
     "name": "stdout",
     "output_type": "stream",
     "text": [
      "FRPRMN - after linmin: postprocessing is finished. Run new forward/adjoint simulations.\n"
     ]
    },
    {
     "data": {
      "text/plain": [
       "0"
      ]
     },
     "execution_count": 13,
     "metadata": {},
     "output_type": "execute_result"
    }
   ],
   "source": [
    "import importlib\n",
    "import frprmn\n",
    "importlib.reload(frprmn)\n",
    "\n",
    "success = frprmn.afterLinmin(True)\n",
    "subprocess.check_call('sh '+globalCommandFile, shell=True)"
   ]
  },
  {
   "cell_type": "code",
   "execution_count": 14,
   "metadata": {},
   "outputs": [
    {
     "name": "stdout",
     "output_type": "stream",
     "text": [
      "line minimization is ready. Run mnbrak and linmin procedures.\n"
     ]
    },
    {
     "data": {
      "text/plain": [
       "0"
      ]
     },
     "execution_count": 14,
     "metadata": {},
     "output_type": "execute_result"
    }
   ],
   "source": [
    "import importlib\n",
    "import frprmn\n",
    "importlib.reload(frprmn)\n",
    "\n",
    "success = frprmn.beforeLinmin(False,False)\n",
    "subprocess.check_call('sh '+globalCommandFile, shell=True)"
   ]
  },
  {
   "cell_type": "code",
   "execution_count": 15,
   "metadata": {},
   "outputs": [
    {
     "name": "stdout",
     "output_type": "stream",
     "text": [
      "Initial steps written in command. Run AcousticMonopole.command.sh.\n",
      "           step           QoI directory index\n",
      "0  0.000000e+00  1.834684e-08               a\n",
      "1  1.000000e+09  1.046065e-04               c\n",
      "2  6.180340e+08           NaN               x\n",
      "MNBRAK: narrowing the bracket - Run intermediate forward simulations.\n",
      "           step           QoI directory index\n",
      "0  0.000000e+00  1.834684e-08               a\n",
      "1  6.180340e+08  3.978097e-05               c\n",
      "3  3.819660e+08           NaN               x\n",
      "MNBRAK: narrowing the bracket - Run intermediate forward simulations.\n",
      "           step           QoI directory index\n",
      "0  0.000000e+00  1.834684e-08               a\n",
      "1  3.819660e+08  1.509852e-05               c\n",
      "4  2.360680e+08           NaN               x\n",
      "MNBRAK: narrowing the bracket - Run intermediate forward simulations.\n",
      "           step           QoI directory index\n",
      "0  0.000000e+00  1.834684e-08               a\n",
      "1  2.360680e+08  1.281313e-05               c\n",
      "5  1.458980e+08           NaN               x\n",
      "MNBRAK: narrowing the bracket - Run intermediate forward simulations.\n",
      "           step           QoI directory index\n",
      "0  0.000000e+00  1.834684e-08               a\n",
      "1  1.458980e+08  6.185873e-06               c\n",
      "6  9.016994e+07           NaN               x\n",
      "MNBRAK: narrowing the bracket - Run intermediate forward simulations.\n",
      "           step           QoI directory index\n",
      "0  0.000000e+00  1.834684e-08               a\n",
      "1  9.016994e+07  2.305444e-06               c\n",
      "7  5.572809e+07           NaN               x\n",
      "MNBRAK: narrowing the bracket - Run intermediate forward simulations.\n",
      "           step           QoI directory index\n",
      "0  0.000000e+00  1.834684e-08               a\n",
      "1  5.572809e+07  8.494654e-07               c\n",
      "8  3.444185e+07           NaN               x\n",
      "MNBRAK: narrowing the bracket - Run intermediate forward simulations.\n",
      "           step           QoI directory index\n",
      "0  0.000000e+00  1.834684e-08               a\n",
      "1  3.444185e+07  3.095500e-07               c\n",
      "9  2.128624e+07           NaN               x\n",
      "MNBRAK: narrowing the bracket - Run intermediate forward simulations.\n",
      "            step           QoI directory index\n",
      "0   0.000000e+00  1.834684e-08               a\n",
      "1   2.128624e+07  1.133484e-07               c\n",
      "10  1.315562e+07           NaN               x\n",
      "MNBRAK: narrowing the bracket - Run intermediate forward simulations.\n",
      "            step           QoI directory index\n",
      "0   0.000000e+00  1.834684e-08               a\n",
      "1   1.315562e+07  4.460442e-08               c\n",
      "11  8.130618e+06           NaN               x\n",
      "MNBRAK: narrowing the bracket - Run intermediate forward simulations.\n",
      "            step           QoI directory index\n",
      "0   0.000000e+00  1.834684e-08               a\n",
      "1   8.130618e+06  2.217753e-08               c\n",
      "12  5.024998e+06           NaN               x\n",
      "MNBRAK: narrowing the bracket - Run intermediate forward simulations.\n",
      "[[0.0 1.8346843699061776e-08 'a']\n",
      " [5024998.356317437 1.5978939536203703e-08 'b']\n",
      " [8130618.190465728 2.21775256830514e-08 'c']]\n",
      "MNBRAK: initial mininum bracket is prepared.\n",
      "            step           QoI directory index\n",
      "0   0.000000e+00  1.834684e-08               a\n",
      "1   5.024998e+06  1.597894e-08               b\n",
      "2   8.130618e+06  2.217753e-08               c\n",
      "13  3.288972e+06           NaN               x\n",
      "LINMIN: next linmin evaluation is prepared-\n",
      "            step           QoI directory index\n",
      "0   0.000000e+00  1.834684e-08               a\n",
      "1   3.288972e+06  1.506443e-08               b\n",
      "2   5.024998e+06  1.597894e-08               c\n",
      "14  3.288970e+06           NaN               x\n",
      "LINMIN: next linmin evaluation is prepared-\n",
      "            step           QoI directory index\n",
      "0   0.000000e+00  1.834684e-08               a\n",
      "1   3.288970e+06  1.506443e-08               b\n",
      "2   3.288972e+06  1.506443e-08               c\n",
      "15  2.032695e+06           NaN               x\n",
      "LINMIN: next linmin evaluation is prepared-\n",
      "            step           QoI directory index\n",
      "1   2.032695e+06  1.554333e-08               a\n",
      "2   3.288970e+06  1.506443e-08               b\n",
      "3   3.288972e+06  1.506443e-08               c\n",
      "16  2.809116e+06           NaN               x\n",
      "LINMIN: next linmin evaluation is prepared-\n",
      "            step           QoI directory index\n",
      "2   2.809116e+06  1.513430e-08               a\n",
      "3   3.288970e+06  1.506443e-08               b\n",
      "4   3.288972e+06  1.506443e-08               c\n",
      "17  3.105682e+06           NaN               x\n",
      "LINMIN: next linmin evaluation is prepared-\n",
      "            step           QoI directory index\n",
      "3   3.105682e+06  1.507463e-08               a\n",
      "4   3.288970e+06  1.506443e-08               b\n",
      "5   3.288972e+06  1.506443e-08               c\n",
      "18  3.218961e+06           NaN               x\n",
      "LINMIN: next linmin evaluation is prepared-\n",
      "            step           QoI directory index\n",
      "4   3.218961e+06  1.506592e-08               a\n",
      "5   3.288970e+06  1.506443e-08               b\n",
      "6   3.288972e+06  1.506443e-08               c\n",
      "19  3.262229e+06           NaN               x\n",
      "LINMIN: next linmin evaluation is prepared-\n",
      "steps: 3.2622290462012375E+06 3.2889704122263170E+06 3.2889717714291448E+06\n",
      "QoIs: 1.5064651153522393E-08 1.5064434180175562E-08 1.5064434180176969E-08\n",
      "LINMIN: line minimization is finished.\n"
     ]
    }
   ],
   "source": [
    "success = setupInitialSteps(False)\n",
    "subprocess.check_call('sh '+globalCommandFile, shell=True)\n",
    "\n",
    "continueFlag = True\n",
    "while(continueFlag):\n",
    "    continueFlag = NextMnbrak(False)\n",
    "    subprocess.check_call('sh '+globalCommandFile, shell=True)\n",
    "    \n",
    "initial = True\n",
    "continueFlag = True\n",
    "while (continueFlag):\n",
    "    continueFlag = nextLinmin(False,initial,False)\n",
    "    initial = False\n",
    "    subprocess.check_call('sh '+globalCommandFile, shell=True)"
   ]
  },
  {
   "cell_type": "code",
   "execution_count": 16,
   "metadata": {},
   "outputs": [
    {
     "name": "stdout",
     "output_type": "stream",
     "text": [
      "FRPRMN - after linmin: postprocessing is finished. Run new forward/adjoint simulations.\n",
      "line minimization is ready. Run mnbrak and linmin procedures.\n"
     ]
    },
    {
     "data": {
      "text/plain": [
       "0"
      ]
     },
     "execution_count": 16,
     "metadata": {},
     "output_type": "execute_result"
    }
   ],
   "source": [
    "success = frprmn.afterLinmin(False)\n",
    "subprocess.check_call('sh '+globalCommandFile, shell=True)\n",
    "\n",
    "success = frprmn.beforeLinmin(False,False)\n",
    "subprocess.check_call('sh '+globalCommandFile, shell=True)"
   ]
  },
  {
   "cell_type": "code",
   "execution_count": null,
   "metadata": {},
   "outputs": [],
   "source": []
  }
 ],
 "metadata": {
  "kernelspec": {
   "display_name": "Python 3",
   "language": "python",
   "name": "python3"
  },
  "language_info": {
   "codemirror_mode": {
    "name": "ipython",
    "version": 3
   },
   "file_extension": ".py",
   "mimetype": "text/x-python",
   "name": "python",
   "nbconvert_exporter": "python",
   "pygments_lexer": "ipython3",
   "version": "3.7.3"
  }
 },
 "nbformat": 4,
 "nbformat_minor": 2
}
